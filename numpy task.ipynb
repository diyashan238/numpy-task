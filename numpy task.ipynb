{
  "cells": [
    {
      "cell_type": "markdown",
      "metadata": {
        "id": "L-u1Egx-27Uo"
      },
      "source": [
        "# Numpy\n",
        "\n"
      ]
    },
    {
      "cell_type": "markdown",
      "metadata": {
        "id": "K_4kzRG327Ut"
      },
      "source": [
        "#### 1. Import the numpy package under the name `np` (★☆☆) \n",
        "(**hint**: import … as …)"
      ]
    },
    {
      "cell_type": "code",
      "execution_count": null,
      "metadata": {
        "collapsed": true,
        "id": "v8OLt-O627U7"
      },
      "outputs": [],
      "source": [
        "import numpy as np"
      ]
    },
    {
      "cell_type": "markdown",
      "metadata": {
        "id": "aTpKB3vs27U9"
      },
      "source": [
        "#### 2. Print the numpy version and the configuration (★☆☆) \n",
        "(**hint**: np.\\_\\_version\\_\\_, np.show\\_config)"
      ]
    },
    {
      "cell_type": "code",
      "execution_count": null,
      "metadata": {
        "colab": {
          "base_uri": "https://localhost:8080/",
          "height": 35
        },
        "id": "gta4uL7M27U-",
        "outputId": "8f61e7f0-4d1a-4288-8865-ea566e8354db"
      },
      "outputs": [
        {
          "output_type": "execute_result",
          "data": {
            "text/plain": [
              "'1.21.6'"
            ],
            "application/vnd.google.colaboratory.intrinsic+json": {
              "type": "string"
            }
          },
          "metadata": {},
          "execution_count": 2
        }
      ],
      "source": [
        "np.__version__  \n"
      ]
    },
    {
      "cell_type": "markdown",
      "metadata": {
        "id": "aS_iWnJL27U-"
      },
      "source": [
        "#### 3. Create a null vector of size 10 (★☆☆) \n",
        "(**hint**: np.zeros)"
      ]
    },
    {
      "cell_type": "code",
      "execution_count": null,
      "metadata": {
        "colab": {
          "base_uri": "https://localhost:8080/"
        },
        "id": "9i52w7lH27U_",
        "outputId": "1c3e04a0-cb63-4c81-9f66-6123d2db910f"
      },
      "outputs": [
        {
          "output_type": "stream",
          "name": "stdout",
          "text": [
            "[0. 0. 0. 0. 0. 0. 0. 0. 0. 0.]\n"
          ]
        }
      ],
      "source": [
        "x=np.zeros(10)\n",
        "print(x)"
      ]
    },
    {
      "cell_type": "markdown",
      "metadata": {
        "id": "jtWQI3TT27U_"
      },
      "source": [
        "#### 4.  How to find the memory size of any array (★☆☆) \n",
        "(**hint**: size, itemsize)"
      ]
    },
    {
      "cell_type": "code",
      "execution_count": null,
      "metadata": {
        "colab": {
          "base_uri": "https://localhost:8080/"
        },
        "id": "yLg0TDFM27VA",
        "outputId": "159065ee-2b48-4775-b82a-ec917db35af5"
      },
      "outputs": [
        {
          "output_type": "stream",
          "name": "stdout",
          "text": [
            "32\n"
          ]
        }
      ],
      "source": [
        "n=np.zeros((2,2))\n",
        "print(n.size*n.itemsize)"
      ]
    },
    {
      "cell_type": "markdown",
      "metadata": {
        "id": "YTxtlWmN27VB"
      },
      "source": [
        "#### 5.  How to get the documentation of the numpy add function from the command line? (★☆☆) \n",
        "(**hint**: np.info)"
      ]
    },
    {
      "cell_type": "code",
      "execution_count": null,
      "metadata": {
        "collapsed": true,
        "colab": {
          "base_uri": "https://localhost:8080/"
        },
        "id": "c0DI9cvD27VC",
        "outputId": "f0c6f284-4256-49b6-d6cf-1b3c9388910b"
      },
      "outputs": [
        {
          "output_type": "stream",
          "name": "stdout",
          "text": [
            "add(x1, x2, /, out=None, *, where=True, casting='same_kind', order='K', dtype=None, subok=True[, signature, extobj])\n",
            "\n",
            "Add arguments element-wise.\n",
            "\n",
            "Parameters\n",
            "----------\n",
            "x1, x2 : array_like\n",
            "    The arrays to be added.\n",
            "    If ``x1.shape != x2.shape``, they must be broadcastable to a common\n",
            "    shape (which becomes the shape of the output).\n",
            "out : ndarray, None, or tuple of ndarray and None, optional\n",
            "    A location into which the result is stored. If provided, it must have\n",
            "    a shape that the inputs broadcast to. If not provided or None,\n",
            "    a freshly-allocated array is returned. A tuple (possible only as a\n",
            "    keyword argument) must have length equal to the number of outputs.\n",
            "where : array_like, optional\n",
            "    This condition is broadcast over the input. At locations where the\n",
            "    condition is True, the `out` array will be set to the ufunc result.\n",
            "    Elsewhere, the `out` array will retain its original value.\n",
            "    Note that if an uninitialized `out` array is created via the default\n",
            "    ``out=None``, locations within it where the condition is False will\n",
            "    remain uninitialized.\n",
            "**kwargs\n",
            "    For other keyword-only arguments, see the\n",
            "    :ref:`ufunc docs <ufuncs.kwargs>`.\n",
            "\n",
            "Returns\n",
            "-------\n",
            "add : ndarray or scalar\n",
            "    The sum of `x1` and `x2`, element-wise.\n",
            "    This is a scalar if both `x1` and `x2` are scalars.\n",
            "\n",
            "Notes\n",
            "-----\n",
            "Equivalent to `x1` + `x2` in terms of array broadcasting.\n",
            "\n",
            "Examples\n",
            "--------\n",
            ">>> np.add(1.0, 4.0)\n",
            "5.0\n",
            ">>> x1 = np.arange(9.0).reshape((3, 3))\n",
            ">>> x2 = np.arange(3.0)\n",
            ">>> np.add(x1, x2)\n",
            "array([[  0.,   2.,   4.],\n",
            "       [  3.,   5.,   7.],\n",
            "       [  6.,   8.,  10.]])\n",
            "\n",
            "The ``+`` operator can be used as a shorthand for ``np.add`` on ndarrays.\n",
            "\n",
            ">>> x1 = np.arange(9.0).reshape((3, 3))\n",
            ">>> x2 = np.arange(3.0)\n",
            ">>> x1 + x2\n",
            "array([[ 0.,  2.,  4.],\n",
            "       [ 3.,  5.,  7.],\n",
            "       [ 6.,  8., 10.]])\n"
          ]
        }
      ],
      "source": [
        "np.info(np.add)"
      ]
    },
    {
      "cell_type": "markdown",
      "metadata": {
        "id": "xecrcN1S27VC"
      },
      "source": [
        "#### 6.  Create a null vector of size 10 but the fifth value which is 1 (★☆☆) \n",
        "(**hint**: array\\[4\\])"
      ]
    },
    {
      "cell_type": "code",
      "execution_count": null,
      "metadata": {
        "colab": {
          "base_uri": "https://localhost:8080/"
        },
        "id": "0lWVcISP27VD",
        "outputId": "e343ed41-e824-4aa4-9ce2-dac69983679a"
      },
      "outputs": [
        {
          "output_type": "stream",
          "name": "stdout",
          "text": [
            "[0. 0. 0. 0. 1. 0. 0. 0. 0. 0.]\n"
          ]
        }
      ],
      "source": [
        "a=np.zeros(10)\n",
        "a[4]=1\n",
        "print(a)"
      ]
    },
    {
      "cell_type": "markdown",
      "metadata": {
        "id": "nj9VFKgO27VE"
      },
      "source": [
        "#### 7.  Create a vector with values ranging from 10 to 49 (★☆☆) \n",
        "(**hint**: np.arange)"
      ]
    },
    {
      "cell_type": "code",
      "execution_count": null,
      "metadata": {
        "colab": {
          "base_uri": "https://localhost:8080/"
        },
        "id": "BNLgKth027VF",
        "outputId": "a83c8c27-4e52-48a4-9fcb-0694571444b9"
      },
      "outputs": [
        {
          "output_type": "stream",
          "name": "stdout",
          "text": [
            "[10 11 12 13 14 15 16 17 18 19 20 21 22 23 24 25 26 27 28 29 30 31 32 33\n",
            " 34 35 36 37 38 39 40 41 42 43 44 45 46 47 48 49]\n"
          ]
        }
      ],
      "source": [
        "z=np.arange(10,50)\n",
        "print(z)"
      ]
    },
    {
      "cell_type": "markdown",
      "metadata": {
        "id": "uwOPkWPA27VF"
      },
      "source": [
        "#### 8.  Reverse a vector (first element becomes last) (★☆☆) \n",
        "(**hint**: array\\[::-1\\])"
      ]
    },
    {
      "cell_type": "code",
      "execution_count": null,
      "metadata": {
        "colab": {
          "base_uri": "https://localhost:8080/"
        },
        "id": "8WPb5k1O27VG",
        "outputId": "c1396db9-8029-40b9-99a3-357f37015350"
      },
      "outputs": [
        {
          "output_type": "stream",
          "name": "stdout",
          "text": [
            "[49 48 47 46 45 44 43 42 41 40 39 38 37 36 35 34 33 32 31 30 29 28 27 26\n",
            " 25 24 23 22 21 20 19 18 17 16 15 14 13 12 11 10  9  8  7  6  5  4  3  2\n",
            "  1  0]\n"
          ]
        }
      ],
      "source": [
        "z=np.arange(50)\n",
        "z=z[::-1]\n",
        "print(z)"
      ]
    },
    {
      "cell_type": "markdown",
      "metadata": {
        "id": "g7AHUd5O27VG"
      },
      "source": [
        "9.  Create a 3x3 matrix with values ranging from 0 to 8 (★☆☆) \n",
        "(**hint**: reshape)"
      ]
    },
    {
      "cell_type": "code",
      "execution_count": null,
      "metadata": {
        "colab": {
          "base_uri": "https://localhost:8080/"
        },
        "id": "wS9kkmQq27VH",
        "outputId": "da1cd448-e7ad-4dc9-ca98-7df4fc252df4"
      },
      "outputs": [
        {
          "output_type": "stream",
          "name": "stdout",
          "text": [
            "[[0 1 2]\n",
            " [3 4 5]\n",
            " [6 7 8]]\n"
          ]
        }
      ],
      "source": [
        "z=np.arange(9).reshape(3,3)\n",
        "print(z)"
      ]
    },
    {
      "cell_type": "markdown",
      "metadata": {
        "id": "pWX6gIvS27VI"
      },
      "source": [
        "#### 10. Find indices of non-zero elements from \\[1,2,0,0,4,0\\] (★☆☆) \n",
        "(**hint**: np.nonzero)"
      ]
    },
    {
      "cell_type": "code",
      "execution_count": null,
      "metadata": {
        "colab": {
          "base_uri": "https://localhost:8080/"
        },
        "id": "CtAF4ihb27VI",
        "outputId": "b4beab1e-6e67-4100-911e-1e557f77b710"
      },
      "outputs": [
        {
          "output_type": "stream",
          "name": "stdout",
          "text": [
            "(array([0, 1, 4]),)\n"
          ]
        }
      ],
      "source": [
        "z=np.nonzero([1,2,0,0,4,0])\n",
        "print(z)"
      ]
    },
    {
      "cell_type": "markdown",
      "metadata": {
        "id": "-kEww8-N27VJ"
      },
      "source": [
        "#### 11. Create a 3x3 identity matrix (★☆☆) \n",
        "(**hint**: np.eye)"
      ]
    },
    {
      "cell_type": "code",
      "execution_count": null,
      "metadata": {
        "colab": {
          "base_uri": "https://localhost:8080/"
        },
        "id": "moT_dVEM27VJ",
        "outputId": "2d66de8c-32d2-4c5e-aef3-e63056170cde"
      },
      "outputs": [
        {
          "output_type": "stream",
          "name": "stdout",
          "text": [
            "[[1. 0. 0.]\n",
            " [0. 1. 0.]\n",
            " [0. 0. 1.]]\n"
          ]
        }
      ],
      "source": [
        "z=np.eye(3)\n",
        "print(z)"
      ]
    },
    {
      "cell_type": "markdown",
      "metadata": {
        "id": "oLHvBijH27VJ"
      },
      "source": [
        "#### 12. Create a 3x3x3 array with random values (★☆☆) \n",
        "(**hint**: np.random.random)"
      ]
    },
    {
      "cell_type": "code",
      "execution_count": null,
      "metadata": {
        "collapsed": true,
        "colab": {
          "base_uri": "https://localhost:8080/"
        },
        "id": "Nhx7NAIj27VK",
        "outputId": "a809f612-b077-45b7-eb85-8f6c9ff8bd9f"
      },
      "outputs": [
        {
          "output_type": "stream",
          "name": "stdout",
          "text": [
            "[[[0.4428094  0.91089608 0.39118873]\n",
            "  [0.96821751 0.70409032 0.92739728]\n",
            "  [0.37183193 0.1162471  0.38136253]]\n",
            "\n",
            " [[0.23745156 0.18643379 0.12516244]\n",
            "  [0.85401454 0.16242026 0.85223909]\n",
            "  [0.95634534 0.39767088 0.73286539]]\n",
            "\n",
            " [[0.52733269 0.32788567 0.68337384]\n",
            "  [0.95386743 0.13769678 0.00554965]\n",
            "  [0.10205858 0.69255926 0.06559612]]]\n"
          ]
        }
      ],
      "source": [
        "z=np.random.random((3,3,3))\n",
        "print(z)"
      ]
    },
    {
      "cell_type": "markdown",
      "metadata": {
        "id": "CuMbYohq27VK"
      },
      "source": [
        "#### 13. Create a 10x10 array with random values and find the minimum and maximum values (★☆☆) \n",
        "(**hint**: min, max)"
      ]
    },
    {
      "cell_type": "code",
      "execution_count": null,
      "metadata": {
        "colab": {
          "base_uri": "https://localhost:8080/"
        },
        "id": "mN3T3ZuG27VL",
        "outputId": "bbec382f-c906-4069-8264-984dba88c678"
      },
      "outputs": [
        {
          "output_type": "stream",
          "name": "stdout",
          "text": [
            "0.018531961487266213 0.9867199981426451\n"
          ]
        }
      ],
      "source": [
        "z=np.random.random((10,10))\n",
        "zmin,zmax=z.min(),z.max()\n",
        "print(zmin,zmax)"
      ]
    },
    {
      "cell_type": "markdown",
      "metadata": {
        "id": "Vfro6A6-27VL"
      },
      "source": [
        "#### 14. Create a random vector of size 30 and find the mean value (★☆☆) \n",
        "(**hint**: mean)"
      ]
    },
    {
      "cell_type": "code",
      "execution_count": null,
      "metadata": {
        "colab": {
          "base_uri": "https://localhost:8080/"
        },
        "id": "mUDuOeDS27VM",
        "outputId": "0ae2cc6b-d5a6-40fc-f103-2294b11b8429"
      },
      "outputs": [
        {
          "output_type": "stream",
          "name": "stdout",
          "text": [
            "0.40509324395155677\n"
          ]
        }
      ],
      "source": [
        "z=np.random.random(30)\n",
        "m=z.mean()\n",
        "print(m)\n"
      ]
    },
    {
      "cell_type": "markdown",
      "metadata": {
        "id": "d33hkZ8327VM"
      },
      "source": [
        "#### 15. Create a 2d array with 1 on the border and 0 inside (★☆☆) \n",
        "(**hint**: array\\[1:-1, 1:-1\\])"
      ]
    },
    {
      "cell_type": "code",
      "execution_count": null,
      "metadata": {
        "colab": {
          "base_uri": "https://localhost:8080/"
        },
        "id": "ynUfl1v827VN",
        "outputId": "0f8e797f-0a9b-4b50-8904-822d73315456"
      },
      "outputs": [
        {
          "output_type": "stream",
          "name": "stdout",
          "text": [
            "[[1. 1. 1. 1. 1.]\n",
            " [1. 0. 0. 0. 1.]\n",
            " [1. 0. 0. 0. 1.]\n",
            " [1. 0. 0. 0. 1.]\n",
            " [1. 1. 1. 1. 1.]]\n"
          ]
        }
      ],
      "source": [
        "z=np.ones((5,5))\n",
        "z[1:-1, 1:-1]=0\n",
        "print(z)"
      ]
    },
    {
      "cell_type": "markdown",
      "metadata": {
        "id": "1m7yaVG427VN"
      },
      "source": [
        "#### 16. How to add a border (filled with 0's) around an existing array? (★☆☆) \n",
        "(**hint**: np.pad)"
      ]
    },
    {
      "cell_type": "code",
      "execution_count": null,
      "metadata": {
        "colab": {
          "base_uri": "https://localhost:8080/"
        },
        "id": "Pa9eAfoR27VN",
        "outputId": "93405fcc-d13d-4997-85d2-7dcda42f5962"
      },
      "outputs": [
        {
          "output_type": "stream",
          "name": "stdout",
          "text": [
            "[[0. 0. 0. 0. 0.]\n",
            " [0. 1. 1. 1. 0.]\n",
            " [0. 1. 1. 1. 0.]\n",
            " [0. 1. 1. 1. 0.]\n",
            " [0. 0. 0. 0. 0.]]\n"
          ]
        }
      ],
      "source": [
        "z=np.ones((5,5))\n",
        "z[:, [0,-1]]=0\n",
        "z[[0,-1],:]=0\n",
        "print(z)"
      ]
    },
    {
      "cell_type": "markdown",
      "metadata": {
        "id": "9Opl7cl-27VO"
      },
      "source": [
        "#### 17. What is the result of the following expression? (★☆☆) \n",
        "(**hint**: NaN = not a number, inf = infinity)"
      ]
    },
    {
      "cell_type": "markdown",
      "metadata": {
        "id": "ILNyMEq427VO"
      },
      "source": [
        "```python\n",
        "0 * np.nan\n",
        "np.nan == np.nan\n",
        "np.inf > np.nan\n",
        "np.nan - np.nan\n",
        "0.3 == 3 * 0.1\n",
        "```"
      ]
    },
    {
      "cell_type": "code",
      "execution_count": null,
      "metadata": {
        "colab": {
          "base_uri": "https://localhost:8080/"
        },
        "id": "YnZHoBlS27VO",
        "outputId": "c414dbf2-d0ae-420c-d927-59e88d5473d6"
      },
      "outputs": [
        {
          "output_type": "stream",
          "name": "stdout",
          "text": [
            "nan\n",
            "False\n",
            "False\n",
            "nan\n",
            "False\n"
          ]
        }
      ],
      "source": [
        "print(0*np.nan)\n",
        "print(np.nan==np.nan)\n",
        "print(np.inf>np.nan)\n",
        "print(np.nan-np.nan)\n",
        "print(0.3==3*0.1)\n"
      ]
    },
    {
      "cell_type": "markdown",
      "metadata": {
        "id": "nKWMQYTJ27VP"
      },
      "source": [
        "#### 18. Create a 5x5 matrix with values 1,2,3,4 just below the diagonal (★☆☆) \n",
        "(**hint**: np.diag)"
      ]
    },
    {
      "cell_type": "code",
      "execution_count": null,
      "metadata": {
        "colab": {
          "base_uri": "https://localhost:8080/"
        },
        "id": "IKjhXWa427VP",
        "outputId": "ea87d80c-dd2e-445a-8c4a-4d09c902a163"
      },
      "outputs": [
        {
          "output_type": "stream",
          "name": "stdout",
          "text": [
            "[[0 0 0 0 0]\n",
            " [1 0 0 0 0]\n",
            " [0 2 0 0 0]\n",
            " [0 0 3 0 0]\n",
            " [0 0 0 4 0]]\n"
          ]
        }
      ],
      "source": [
        "z=np.diag(1+np.arange(4),k=-1)\n",
        "print(z)"
      ]
    },
    {
      "cell_type": "markdown",
      "metadata": {
        "id": "GgwuOS5O27VP"
      },
      "source": [
        "#### 19. Create a 8x8 matrix and fill it with a checkerboard pattern (★☆☆) \n",
        "(**hint**: array\\[::2\\])"
      ]
    },
    {
      "cell_type": "code",
      "execution_count": null,
      "metadata": {
        "colab": {
          "base_uri": "https://localhost:8080/"
        },
        "id": "GqHFME-W27VQ",
        "outputId": "56b2244d-2b87-4465-b24f-c98c5ddc5e11"
      },
      "outputs": [
        {
          "output_type": "stream",
          "name": "stdout",
          "text": [
            "[[0. 1. 0. 1. 0. 1. 0. 1.]\n",
            " [1. 0. 1. 0. 1. 0. 1. 0.]\n",
            " [0. 1. 0. 1. 0. 1. 0. 1.]\n",
            " [1. 0. 1. 0. 1. 0. 1. 0.]\n",
            " [0. 1. 0. 1. 0. 1. 0. 1.]\n",
            " [1. 0. 1. 0. 1. 0. 1. 0.]\n",
            " [0. 1. 0. 1. 0. 1. 0. 1.]\n",
            " [1. 0. 1. 0. 1. 0. 1. 0.]]\n"
          ]
        }
      ],
      "source": [
        "z=np.zeros((8,8))\n",
        "z[1::2, ::2]=1\n",
        "z[::2, 1::2]=1\n",
        "print(z)"
      ]
    },
    {
      "cell_type": "markdown",
      "metadata": {
        "id": "gAHLk7-c27VQ"
      },
      "source": [
        "#### 20. Consider a (6,7,8) shape array, what is the index (x,y,z) of the 100th element? \n",
        "(**hint**: np.unravel_index)"
      ]
    },
    {
      "cell_type": "code",
      "execution_count": null,
      "metadata": {
        "colab": {
          "base_uri": "https://localhost:8080/"
        },
        "id": "GrZvPLvt27VR",
        "outputId": "73551c81-3cfb-450a-b61f-9d204e5409f7"
      },
      "outputs": [
        {
          "output_type": "stream",
          "name": "stdout",
          "text": [
            "(1, 5, 3)\n"
          ]
        }
      ],
      "source": [
        "print(np.unravel_index(99,(6,7,8)))"
      ]
    },
    {
      "cell_type": "markdown",
      "metadata": {
        "id": "Hzc71JBx27VS"
      },
      "source": [
        "#### 21. Create a checkerboard 8x8 matrix using the tile function (★☆☆) \n",
        "(**hint**: np.tile)"
      ]
    },
    {
      "cell_type": "code",
      "execution_count": null,
      "metadata": {
        "colab": {
          "base_uri": "https://localhost:8080/"
        },
        "id": "v7rrnIcF27VS",
        "outputId": "2d56cb6f-8a32-4354-aa2f-ec34cd6a1c72"
      },
      "outputs": [
        {
          "output_type": "stream",
          "name": "stdout",
          "text": [
            "[[10  1 10  1 10  1 10  1]\n",
            " [ 1  0  1  0  1  0  1  0]\n",
            " [10  1 10  1 10  1 10  1]\n",
            " [ 1  0  1  0  1  0  1  0]\n",
            " [10  1 10  1 10  1 10  1]\n",
            " [ 1  0  1  0  1  0  1  0]\n",
            " [10  1 10  1 10  1 10  1]\n",
            " [ 1  0  1  0  1  0  1  0]]\n"
          ]
        }
      ],
      "source": [
        "z=np.tile(np.array([[10,1],[1,0]]),(4,4))\n",
        "print(z)"
      ]
    },
    {
      "cell_type": "markdown",
      "metadata": {
        "id": "3_NdTyKt27VT"
      },
      "source": [
        "#### 22. Normalize a 5x5 random matrix (★☆☆) \n",
        "(**hint**: (x - min) / (max - min))"
      ]
    },
    {
      "cell_type": "code",
      "execution_count": null,
      "metadata": {
        "colab": {
          "base_uri": "https://localhost:8080/"
        },
        "id": "Dk6HXMe327VT",
        "outputId": "06b9d63a-36a3-4a5d-d9d7-2978879412ba"
      },
      "outputs": [
        {
          "output_type": "stream",
          "name": "stdout",
          "text": [
            "[[0.06593228 0.37443994 1.         0.59385775 0.93153698]\n",
            " [0.93403067 0.83797317 0.12053197 0.02091506 0.53525286]\n",
            " [0.35457646 0.561239   0.41205508 0.         0.09741235]\n",
            " [0.03274687 0.51048738 0.5425245  0.20616089 0.57025734]\n",
            " [0.51600067 0.98927873 0.98890369 0.65173092 0.52243949]]\n"
          ]
        }
      ],
      "source": [
        "z=np.random.random((5,5))\n",
        "z=(z-np.min(z))/(np.max(z)-np.min(z))\n",
        "print(z)"
      ]
    },
    {
      "cell_type": "markdown",
      "metadata": {
        "id": "xmaMZgAj27VU"
      },
      "source": [
        "#### 23. Create a custom dtype that describes a color as four unsigned bytes (RGBA) (★☆☆) \n",
        "(**hint**: np.dtype)"
      ]
    },
    {
      "cell_type": "code",
      "execution_count": null,
      "metadata": {
        "collapsed": true,
        "id": "2vE-KEar27VU"
      },
      "outputs": [],
      "source": [
        "color=np.dtype([(\"r\", np.ubyte),\n",
        "                (\"g\", np.ubyte),\n",
        "                (\"b\", np.ubyte),\n",
        "                (\"a\", np.ubyte)])\n"
      ]
    },
    {
      "cell_type": "markdown",
      "metadata": {
        "id": "yzFMd3HV27VV"
      },
      "source": [
        "#### 24. Multiply a 5x3 matrix by a 3x2 matrix (real matrix product) (★☆☆) \n",
        "(**hint**: np.dot | @)"
      ]
    },
    {
      "cell_type": "code",
      "execution_count": null,
      "metadata": {
        "colab": {
          "base_uri": "https://localhost:8080/"
        },
        "id": "-ZEw1gBI27VV",
        "outputId": "0ba1201c-6a8d-4be5-e771-581306ba1036"
      },
      "outputs": [
        {
          "output_type": "stream",
          "name": "stdout",
          "text": [
            "[[3. 3.]\n",
            " [3. 3.]\n",
            " [3. 3.]\n",
            " [3. 3.]\n",
            " [3. 3.]]\n"
          ]
        }
      ],
      "source": [
        "z=np.ones((5,3)) @ np.ones((3,2))\n",
        "print(z)"
      ]
    },
    {
      "cell_type": "markdown",
      "metadata": {
        "id": "HDz3n0uv27VW"
      },
      "source": [
        "#### 25. Given a 1D array, negate all elements which are between 3 and 8, in place. (★☆☆) \n",
        "(**hint**: >, <=)"
      ]
    },
    {
      "cell_type": "code",
      "execution_count": null,
      "metadata": {
        "colab": {
          "base_uri": "https://localhost:8080/"
        },
        "id": "VO7_j5tB27VW",
        "outputId": "e9e685da-2d6f-46cd-b3b6-0d9fe4e294ae"
      },
      "outputs": [
        {
          "output_type": "stream",
          "name": "stdout",
          "text": [
            "[ 0  1  2  3 -4 -5 -6 -7  8  9 10 11 12 13 14]\n"
          ]
        }
      ],
      "source": [
        "z=np.arange(15)\n",
        "z[(3<z) & (z<8)] *= -1\n",
        "print(z)"
      ]
    },
    {
      "cell_type": "markdown",
      "metadata": {
        "id": "feFbgOul27VX"
      },
      "source": [
        "#### 26. What is the output of the following script? (★☆☆) \n",
        "(**hint**: np.sum)"
      ]
    },
    {
      "cell_type": "markdown",
      "metadata": {
        "id": "FMxK-iiM27VX"
      },
      "source": [
        "```python\n",
        "# Author: Jake VanderPlas\n",
        "\n",
        "print(sum(range(5),-1))\n",
        "from numpy import *\n",
        "print(sum(range(5),-1))\n",
        "```"
      ]
    },
    {
      "cell_type": "code",
      "execution_count": null,
      "metadata": {
        "colab": {
          "base_uri": "https://localhost:8080/"
        },
        "id": "KUdItiHk27VY",
        "outputId": "52f8e975-b7f9-4f69-a85e-92932aa095cd"
      },
      "outputs": [
        {
          "output_type": "stream",
          "name": "stdout",
          "text": [
            "9\n",
            "10\n"
          ]
        }
      ],
      "source": [
        "print(sum(range(5),-1))\n",
        "from numpy import *\n",
        "print(sum(range(5),-1))"
      ]
    },
    {
      "cell_type": "markdown",
      "metadata": {
        "id": "-2CDVrDX27VY"
      },
      "source": [
        "#### 27. Consider an integer vector Z, which of these expressions are legal? (★☆☆)"
      ]
    },
    {
      "cell_type": "markdown",
      "metadata": {
        "id": "ODS0jkL627VZ"
      },
      "source": [
        "```python\n",
        "Z**Z\n",
        "2 << Z >> 2\n",
        "Z <- Z\n",
        "1j*Z\n",
        "Z/1/1\n",
        "Z<Z>Z\n",
        "```"
      ]
    },
    {
      "cell_type": "code",
      "execution_count": null,
      "metadata": {
        "id": "9xXyP3Yp27VZ"
      },
      "outputs": [],
      "source": [
        "\n"
      ]
    },
    {
      "cell_type": "markdown",
      "metadata": {
        "id": "ZDGvz8o027VZ"
      },
      "source": [
        "#### 28. What are the result of the following expressions?"
      ]
    },
    {
      "cell_type": "markdown",
      "metadata": {
        "id": "9CjA69Wt27Va"
      },
      "source": [
        "```python\n",
        "np.array(0) / np.array(0)\n",
        "np.array(0) // np.array(0)\n",
        "np.array([np.nan]).astype(int).astype(float)\n",
        "```"
      ]
    },
    {
      "cell_type": "code",
      "execution_count": null,
      "metadata": {
        "colab": {
          "base_uri": "https://localhost:8080/"
        },
        "id": "zrXQ4C_D27Va",
        "outputId": "68c2f313-ff9f-4ed2-a066-118c95b7e57a"
      },
      "outputs": [
        {
          "output_type": "stream",
          "name": "stdout",
          "text": [
            "nan\n",
            "0\n",
            "[-9.22337204e+18]\n"
          ]
        },
        {
          "output_type": "stream",
          "name": "stderr",
          "text": [
            "/usr/local/lib/python3.7/dist-packages/ipykernel_launcher.py:1: RuntimeWarning: invalid value encountered in true_divide\n",
            "  \"\"\"Entry point for launching an IPython kernel.\n",
            "/usr/local/lib/python3.7/dist-packages/ipykernel_launcher.py:2: RuntimeWarning: divide by zero encountered in floor_divide\n",
            "  \n"
          ]
        }
      ],
      "source": [
        "print(np.array(0) / np.array(0))\n",
        "print(np.array(0) // np.array(0))\n",
        "print(np.array([np.nan]).astype(int).astype(float))"
      ]
    },
    {
      "cell_type": "markdown",
      "metadata": {
        "id": "D5RiSo3a27Vb"
      },
      "source": [
        "#### 29. How to round away from zero a float array ? (★☆☆) \n",
        "(**hint**: np.uniform, np.copysign, np.ceil, np.abs)"
      ]
    },
    {
      "cell_type": "code",
      "execution_count": null,
      "metadata": {
        "colab": {
          "base_uri": "https://localhost:8080/"
        },
        "id": "lPsHRjUE27Vb",
        "outputId": "7e84b4f6-8692-48a7-d7e4-5e86e2ee4671"
      },
      "outputs": [
        {
          "output_type": "stream",
          "name": "stdout",
          "text": [
            "[ 1.  5.  0.  7. 10.  1.  9.  5.  8.  2.] [-1.12676391 -5.39162676 -0.78686158 -7.53733055  9.40379969 -1.61186774\n",
            " -9.35375125 -5.27582755 -8.67809582  1.32719572]\n"
          ]
        }
      ],
      "source": [
        "z=np.random.uniform(-10,10,+10)\n",
        "print(np.copysign(np.ceil(z), np.abs(z)), z)"
      ]
    },
    {
      "cell_type": "markdown",
      "metadata": {
        "id": "Cp21nrDO27Vb"
      },
      "source": [
        "#### 30. How to find common values between two arrays? (★☆☆) \n",
        "(**hint**: np.intersect1d)"
      ]
    },
    {
      "cell_type": "code",
      "execution_count": null,
      "metadata": {
        "colab": {
          "base_uri": "https://localhost:8080/"
        },
        "id": "8igu493-27Vc",
        "outputId": "4671e775-6ea0-47d1-e364-a98287635afc"
      },
      "outputs": [
        {
          "output_type": "stream",
          "name": "stdout",
          "text": [
            "[5 6 8]\n"
          ]
        }
      ],
      "source": [
        "z1=np.random.randint(0,10,10)\n",
        "z2=np.random.randint(0,10,10)\n",
        "print(np.intersect1d(z1,z2))"
      ]
    },
    {
      "cell_type": "markdown",
      "metadata": {
        "id": "Zj1w5yVf27Vc"
      },
      "source": [
        "#### 31. How to ignore all numpy warnings (not recommended)? (★☆☆) \n",
        "(**hint**: np.seterr, np.errstate)"
      ]
    },
    {
      "cell_type": "code",
      "execution_count": null,
      "metadata": {
        "id": "tg98WGt727Vd"
      },
      "outputs": [],
      "source": [
        "with np.errstate(all=\"ignore\"):\n",
        "  np.arange(3)/0"
      ]
    },
    {
      "cell_type": "markdown",
      "metadata": {
        "id": "Ug3-eohh27Vd"
      },
      "source": [
        "#### 32. Is the following expressions true? (★☆☆) \n",
        "(**hint**: imaginary number)"
      ]
    },
    {
      "cell_type": "markdown",
      "metadata": {
        "id": "vnxJzK8f27Ve"
      },
      "source": [
        "```python\n",
        "np.sqrt(-1) == np.emath.sqrt(-1)\n",
        "```"
      ]
    },
    {
      "cell_type": "code",
      "execution_count": null,
      "metadata": {
        "colab": {
          "base_uri": "https://localhost:8080/"
        },
        "id": "o46fIH_I27Ve",
        "outputId": "d612b08b-fb9a-45c9-b218-bacfccae943f"
      },
      "outputs": [
        {
          "output_type": "stream",
          "name": "stderr",
          "text": [
            "/usr/local/lib/python3.7/dist-packages/ipykernel_launcher.py:1: RuntimeWarning: invalid value encountered in sqrt\n",
            "  \"\"\"Entry point for launching an IPython kernel.\n"
          ]
        },
        {
          "output_type": "execute_result",
          "data": {
            "text/plain": [
              "False"
            ]
          },
          "metadata": {},
          "execution_count": 31
        }
      ],
      "source": [
        "np.sqrt(-1)==np.emath.sqrt(-1)"
      ]
    },
    {
      "cell_type": "markdown",
      "metadata": {
        "id": "nQhvdWSj27Ve"
      },
      "source": [
        "#### 33. How to get the dates of yesterday, today and tomorrow? (★☆☆) \n",
        "(**hint**: np.datetime64, np.timedelta64)"
      ]
    },
    {
      "cell_type": "code",
      "execution_count": null,
      "metadata": {
        "collapsed": true,
        "id": "rENXHv2h27Ve"
      },
      "outputs": [],
      "source": [
        "yesterday= np.datetime64(\"today\")- np.timedelta64(1)\n",
        "today= np.datetime64(\"today\")\n",
        "tomorrow= np.datetime64(\"today\")+ np.timedelta64(1)"
      ]
    },
    {
      "cell_type": "markdown",
      "metadata": {
        "id": "TrvWRgV127Vf"
      },
      "source": [
        "#### 34. How to get all the dates corresponding to the month of July 2016? (★★☆) \n",
        "(**hint**: np.arange(dtype=datetime64\\['D'\\]))"
      ]
    },
    {
      "cell_type": "code",
      "execution_count": null,
      "metadata": {
        "colab": {
          "base_uri": "https://localhost:8080/"
        },
        "id": "VK-8JDK727Vf",
        "outputId": "c6fa5b71-6808-42c7-b212-6addfe161bc5"
      },
      "outputs": [
        {
          "output_type": "stream",
          "name": "stdout",
          "text": [
            "['2016-07-01' '2016-07-02' '2016-07-03' '2016-07-04' '2016-07-05'\n",
            " '2016-07-06' '2016-07-07' '2016-07-08' '2016-07-09' '2016-07-10'\n",
            " '2016-07-11' '2016-07-12' '2016-07-13' '2016-07-14' '2016-07-15'\n",
            " '2016-07-16' '2016-07-17' '2016-07-18' '2016-07-19' '2016-07-20'\n",
            " '2016-07-21' '2016-07-22' '2016-07-23' '2016-07-24' '2016-07-25'\n",
            " '2016-07-26' '2016-07-27' '2016-07-28' '2016-07-29' '2016-07-30'\n",
            " '2016-07-31']\n"
          ]
        }
      ],
      "source": [
        "z=np.arange(\"2016-07\", \"2016-08\", dtype=\"datetime64[D]\")\n",
        "print(z)"
      ]
    },
    {
      "cell_type": "markdown",
      "metadata": {
        "id": "q2FcI1KG27Vf"
      },
      "source": [
        "#### 35. How to compute ((A+B)\\*(-A/2)) in place (without copy)? (★★☆) \n",
        "(**hint**: np.add(out=), np.negative(out=), np.multiply(out=), np.divide(out=))"
      ]
    },
    {
      "cell_type": "code",
      "execution_count": null,
      "metadata": {
        "colab": {
          "base_uri": "https://localhost:8080/"
        },
        "id": "-eyvD4vF27Vg",
        "outputId": "2bd2d8f2-8a23-4c40-c875-dd90483f89c2"
      },
      "outputs": [
        {
          "output_type": "execute_result",
          "data": {
            "text/plain": [
              "array([-1., -1., -1.])"
            ]
          },
          "metadata": {},
          "execution_count": 34
        }
      ],
      "source": [
        "A=np.ones(3)*1\n",
        "B=np.ones(3)*1\n",
        "np.add(A,B, out=B)\n",
        "np.negative(A, out=A)\n",
        "np.multiply(A,B, out=A)\n",
        "np.divide(A,2, out=A)"
      ]
    },
    {
      "cell_type": "markdown",
      "metadata": {
        "id": "7A7OmYxd27Vg"
      },
      "source": [
        "#### 36. Extract the integer part of a random array using 5 different methods (★★☆) \n",
        "(**hint**: %, np.floor, np.ceil, astype, np.trunc)"
      ]
    },
    {
      "cell_type": "code",
      "execution_count": null,
      "metadata": {
        "id": "j955jnTl27Vh",
        "colab": {
          "base_uri": "https://localhost:8080/"
        },
        "outputId": "441ecd6f-118c-4538-99a6-4f8b639096d2"
      },
      "outputs": [
        {
          "output_type": "stream",
          "name": "stdout",
          "text": [
            "[3. 7. 0. 2. 9. 1. 5. 3. 8. 7.]\n",
            "[3. 7. 0. 2. 9. 1. 5. 3. 8. 7.]\n",
            "[3. 7. 0. 2. 9. 1. 5. 3. 8. 7.]\n",
            "[ 4.  8.  1.  3. 10.  2.  6.  4.  9.  8.]\n",
            "[3 7 0 2 9 1 5 3 8 7]\n",
            "[3. 7. 0. 2. 9. 1. 5. 3. 8. 7.]\n"
          ]
        }
      ],
      "source": [
        "z=np.random.uniform(0,10,10)\n",
        "print(z-z%1)\n",
        "print(z//1)\n",
        "print(np.floor(z))\n",
        "print(np.ceil(z))\n",
        "print(z.astype(int))\n",
        "print(np.trunc(z))\n"
      ]
    },
    {
      "cell_type": "markdown",
      "metadata": {
        "id": "ji5QZr5z27Vh"
      },
      "source": [
        "#### 37. Create a 5x5 matrix with row values ranging from 0 to 4 (★★☆) \n",
        "(**hint**: np.arange)"
      ]
    },
    {
      "cell_type": "code",
      "execution_count": null,
      "metadata": {
        "id": "Jt2Haq7C27Vi",
        "colab": {
          "base_uri": "https://localhost:8080/"
        },
        "outputId": "f1ff7f22-f888-4240-aa2c-af011fd365fa"
      },
      "outputs": [
        {
          "output_type": "stream",
          "name": "stdout",
          "text": [
            "[[0. 1. 2. 3. 4.]\n",
            " [0. 1. 2. 3. 4.]\n",
            " [0. 1. 2. 3. 4.]\n",
            " [0. 1. 2. 3. 4.]\n",
            " [0. 1. 2. 3. 4.]]\n"
          ]
        }
      ],
      "source": [
        "z=np.zeros((5,5))\n",
        "z += np.arange(5)\n",
        "print(z)"
      ]
    },
    {
      "cell_type": "markdown",
      "metadata": {
        "id": "i1_T86hr27Vi"
      },
      "source": [
        "#### 38. Consider a generator function that generates 10 integers and use it to build an array (★☆☆) \n",
        "(**hint**: np.fromiter)"
      ]
    },
    {
      "cell_type": "code",
      "execution_count": null,
      "metadata": {
        "id": "PmR2NfEZ27Vj",
        "colab": {
          "base_uri": "https://localhost:8080/"
        },
        "outputId": "5cb79745-54a2-4e36-f97e-41211c2b91ec"
      },
      "outputs": [
        {
          "output_type": "stream",
          "name": "stdout",
          "text": [
            "[0. 1. 2. 3. 4. 5. 6. 7. 8. 9.]\n"
          ]
        }
      ],
      "source": [
        "def generate():\n",
        "  for x in range(10):\n",
        "    yield x\n",
        "z=np.fromiter(generate(),dtype=float,count=-1)\n",
        "print(z)    "
      ]
    },
    {
      "cell_type": "markdown",
      "metadata": {
        "id": "4j-ju8wo27Vj"
      },
      "source": [
        "#### 39. Create a vector of size 10 with values ranging from 0 to 1, both excluded (★★☆) \n",
        "(**hint**: np.linspace)"
      ]
    },
    {
      "cell_type": "code",
      "execution_count": null,
      "metadata": {
        "id": "apjTnePk27Vk",
        "colab": {
          "base_uri": "https://localhost:8080/"
        },
        "outputId": "6b689b36-ea0a-4b42-be9f-1e780f0fef45"
      },
      "outputs": [
        {
          "output_type": "stream",
          "name": "stdout",
          "text": [
            "[0.09090909 0.18181818 0.27272727 0.36363636 0.45454545 0.54545455\n",
            " 0.63636364 0.72727273 0.81818182 0.90909091]\n"
          ]
        }
      ],
      "source": [
        "z=np.linspace(0,1,11,endpoint=False)[1:]\n",
        "print(z)"
      ]
    },
    {
      "cell_type": "markdown",
      "metadata": {
        "id": "GMRnyFYW27Vk"
      },
      "source": [
        "#### 40. Create a random vector of size 10 and sort it (★★☆) \n",
        "(**hint**: sort)"
      ]
    },
    {
      "cell_type": "code",
      "execution_count": null,
      "metadata": {
        "id": "EYHtVxUC27Vl",
        "colab": {
          "base_uri": "https://localhost:8080/"
        },
        "outputId": "281b84fa-6ed2-47ed-d93b-5d59e2e8c7b1"
      },
      "outputs": [
        {
          "output_type": "stream",
          "name": "stdout",
          "text": [
            "[7.51661870e-04 1.98748965e-02 2.34924661e-01 2.43600889e-01\n",
            " 4.29500725e-01 6.73208572e-01 7.89666783e-01 8.24368756e-01\n",
            " 8.47164652e-01 8.74958649e-01]\n"
          ]
        }
      ],
      "source": [
        "z=np.random.random(10)\n",
        "z.sort()\n",
        "print(z)"
      ]
    },
    {
      "cell_type": "markdown",
      "metadata": {
        "id": "ic8aMaB927Vl"
      },
      "source": [
        "#### 41. How to sum a small array faster than np.sum? (★★☆) \n",
        "(**hint**: np.add.reduce)"
      ]
    },
    {
      "cell_type": "code",
      "execution_count": null,
      "metadata": {
        "id": "SOGUZFN827Vm",
        "colab": {
          "base_uri": "https://localhost:8080/"
        },
        "outputId": "a1915cc4-50b1-4d94-d27f-cf3192964d7e"
      },
      "outputs": [
        {
          "output_type": "execute_result",
          "data": {
            "text/plain": [
              "45"
            ]
          },
          "metadata": {},
          "execution_count": 40
        }
      ],
      "source": [
        "z=np.arange(10)\n",
        "np.add.reduce(z)"
      ]
    },
    {
      "cell_type": "markdown",
      "metadata": {
        "id": "pm23tU5L27Vn"
      },
      "source": [
        "#### 42. Consider two random array A and B, check if they are equal (★★☆) \n",
        "(**hint**: np.allclose, np.array\\_equal)"
      ]
    },
    {
      "cell_type": "code",
      "execution_count": null,
      "metadata": {
        "id": "Zrd36MZV27Vn",
        "colab": {
          "base_uri": "https://localhost:8080/"
        },
        "outputId": "cb0a9c7e-a0bf-4d34-8236-fd7b94676d8e"
      },
      "outputs": [
        {
          "output_type": "stream",
          "name": "stdout",
          "text": [
            "True\n",
            "True\n"
          ]
        }
      ],
      "source": [
        "a=np.random.randint(1,2)\n",
        "b=np.random.randint(1,2)\n",
        "equal=np.allclose(a,b)\n",
        "print(equal)\n",
        "equal=np.array_equal(a,b)\n",
        "print(equal)"
      ]
    },
    {
      "cell_type": "markdown",
      "metadata": {
        "id": "YuxGxlYW27Vo"
      },
      "source": [
        "#### 43. Make an array immutable (read-only) (★★☆) \n",
        "(**hint**: flags.writeable)"
      ]
    },
    {
      "cell_type": "code",
      "execution_count": null,
      "metadata": {
        "id": "SPtZIvMX27Vo"
      },
      "outputs": [],
      "source": [
        "#z=np.zeros(10)\n",
        "#z.flags.writeable=False\n",
        "#z[0]=1"
      ]
    },
    {
      "cell_type": "markdown",
      "metadata": {
        "id": "grklaDRY27Vp"
      },
      "source": [
        "#### 44. Consider a random 10x2 matrix representing cartesian coordinates, convert them to polar coordinates (★★☆) \n",
        "(**hint**: np.sqrt, np.arctan2)"
      ]
    },
    {
      "cell_type": "code",
      "execution_count": null,
      "metadata": {
        "id": "qwrQ43kd27Vp",
        "colab": {
          "base_uri": "https://localhost:8080/"
        },
        "outputId": "a55c17ec-3d86-4fb8-9863-4b4571bbd1e2"
      },
      "outputs": [
        {
          "output_type": "stream",
          "name": "stdout",
          "text": [
            "[0.85378067 0.38975831 0.34510132 1.0533877  0.96197634 0.97540883\n",
            " 0.31121052 1.0577079  0.78453787 0.62704298]\n",
            "[0.57562318 1.17970038 1.41884369 0.61768776 0.97285429 0.91796946\n",
            " 1.26303873 1.00674896 0.91252368 1.50810823]\n"
          ]
        }
      ],
      "source": [
        "z=np.random.random((10,2))\n",
        "x,y=z[:,0], z[:,1]\n",
        "r=np.sqrt(x**2+y**2)\n",
        "t=np.arctan2(y,x)\n",
        "print(r)\n",
        "print(t)"
      ]
    },
    {
      "cell_type": "markdown",
      "metadata": {
        "id": "3M7otNNf27Vp"
      },
      "source": [
        "#### 45. Create random vector of size 10 and replace the maximum value by 0 (★★☆) \n",
        "(**hint**: argmax)"
      ]
    },
    {
      "cell_type": "code",
      "execution_count": null,
      "metadata": {
        "id": "Fw7TmWQV27Vq",
        "colab": {
          "base_uri": "https://localhost:8080/"
        },
        "outputId": "c593aea4-4b8d-457f-d726-0d8d35670873"
      },
      "outputs": [
        {
          "output_type": "stream",
          "name": "stdout",
          "text": [
            "[0.02032743 0.77549356 0.75420753 0.36859498 0.9254436  0.06773816\n",
            " 0.70723908 0.         0.25815801 0.35038174]\n"
          ]
        }
      ],
      "source": [
        "z=np.random.random(10)\n",
        "z[z.argmax()]=0\n",
        "print(z)"
      ]
    },
    {
      "cell_type": "markdown",
      "metadata": {
        "id": "p2E52x8_27Vq"
      },
      "source": [
        "#### 46. Create a structured array with `x` and `y` coordinates covering the \\[0,1\\]x\\[0,1\\] area (★★☆) \n",
        "(**hint**: np.meshgrid)"
      ]
    },
    {
      "cell_type": "code",
      "execution_count": null,
      "metadata": {
        "id": "Rnpv5Sls27Vr",
        "colab": {
          "base_uri": "https://localhost:8080/"
        },
        "outputId": "b026e376-1e00-4135-a582-0db301f8c90a"
      },
      "outputs": [
        {
          "output_type": "stream",
          "name": "stdout",
          "text": [
            "[[(0.  , 0.  ) (0.25, 0.  ) (0.5 , 0.  ) (0.75, 0.  ) (1.  , 0.  )]\n",
            " [(0.  , 0.25) (0.25, 0.25) (0.5 , 0.25) (0.75, 0.25) (1.  , 0.25)]\n",
            " [(0.  , 0.5 ) (0.25, 0.5 ) (0.5 , 0.5 ) (0.75, 0.5 ) (1.  , 0.5 )]\n",
            " [(0.  , 0.75) (0.25, 0.75) (0.5 , 0.75) (0.75, 0.75) (1.  , 0.75)]\n",
            " [(0.  , 1.  ) (0.25, 1.  ) (0.5 , 1.  ) (0.75, 1.  ) (1.  , 1.  )]]\n"
          ]
        }
      ],
      "source": [
        "z=np.zeros((5,5), [('x',float), ('y',float)])\n",
        "z['x'], z['y'] = np.meshgrid(np.linspace(0,1,5), np.linspace(0,1,5))\n",
        "print(z)"
      ]
    },
    {
      "cell_type": "markdown",
      "metadata": {
        "id": "_1v_waaV27Vs"
      },
      "source": [
        "####  47. Given two arrays, X and Y, construct the Cauchy matrix C (Cij =1/(xi - yj)) \n",
        "(**hint**: np.subtract.outer)"
      ]
    },
    {
      "cell_type": "code",
      "execution_count": null,
      "metadata": {
        "id": "dmqfUaGr27Vs",
        "colab": {
          "base_uri": "https://localhost:8080/"
        },
        "outputId": "7323c69f-2795-4007-cc56-ee640c7e3b9a"
      },
      "outputs": [
        {
          "output_type": "stream",
          "name": "stdout",
          "text": [
            "-131.91659501325756\n"
          ]
        }
      ],
      "source": [
        "x=np.arange(5)\n",
        "y=x+0.5\n",
        "c=1/np.subtract.outer(x,y)\n",
        "print(linalg.det(c))"
      ]
    },
    {
      "cell_type": "markdown",
      "metadata": {
        "id": "XWWKFnqu27Vs"
      },
      "source": [
        "#### 48. Print the minimum and maximum representable value for each numpy scalar type (★★☆) \n",
        "(**hint**: np.iinfo, np.finfo, eps)"
      ]
    },
    {
      "cell_type": "code",
      "execution_count": null,
      "metadata": {
        "id": "lUZ-dFzx27Vt",
        "colab": {
          "base_uri": "https://localhost:8080/"
        },
        "outputId": "f479440f-e779-4889-e9c3-1720fbe30c64"
      },
      "outputs": [
        {
          "output_type": "stream",
          "name": "stdout",
          "text": [
            "-128\n",
            "127\n",
            "-2147483648\n",
            "2147483647\n",
            "-9223372036854775808\n",
            "9223372036854775807\n",
            "-3.4028235e+38\n",
            "3.4028235e+38\n",
            "1.1920929e-07\n",
            "-1.7976931348623157e+308\n",
            "1.7976931348623157e+308\n",
            "2.220446049250313e-16\n"
          ]
        }
      ],
      "source": [
        "for dtype in [np.int8, np.int32, np.int64]:\n",
        "  print(np.iinfo(dtype).min)\n",
        "  print(np.iinfo(dtype).max)\n",
        "for dtype in [np.float32, np.float64]:\n",
        "  print(np.finfo(dtype).min)\n",
        "  print(np.finfo(dtype).max)\n",
        "  print(np.finfo(dtype).eps)"
      ]
    },
    {
      "cell_type": "markdown",
      "metadata": {
        "id": "_xeHHRDq27Vt"
      },
      "source": [
        "#### 49. How to print all the values of an array? (★★☆) \n",
        "(**hint**: np.set\\_printoptions)"
      ]
    },
    {
      "cell_type": "code",
      "execution_count": null,
      "metadata": {
        "id": "ZYDiXAoZ27Vu",
        "colab": {
          "base_uri": "https://localhost:8080/"
        },
        "outputId": "80ac1e60-1946-4e67-ec6c-c0b8fb0c7588"
      },
      "outputs": [
        {
          "output_type": "stream",
          "name": "stdout",
          "text": [
            "[[0. 0. 0. 0. 0. 0. 0. 0. 0. 0. 0. 0. 0. 0. 0. 0. 0. 0. 0. 0.]\n",
            " [0. 0. 0. 0. 0. 0. 0. 0. 0. 0. 0. 0. 0. 0. 0. 0. 0. 0. 0. 0.]\n",
            " [0. 0. 0. 0. 0. 0. 0. 0. 0. 0. 0. 0. 0. 0. 0. 0. 0. 0. 0. 0.]\n",
            " [0. 0. 0. 0. 0. 0. 0. 0. 0. 0. 0. 0. 0. 0. 0. 0. 0. 0. 0. 0.]\n",
            " [0. 0. 0. 0. 0. 0. 0. 0. 0. 0. 0. 0. 0. 0. 0. 0. 0. 0. 0. 0.]\n",
            " [0. 0. 0. 0. 0. 0. 0. 0. 0. 0. 0. 0. 0. 0. 0. 0. 0. 0. 0. 0.]\n",
            " [0. 0. 0. 0. 0. 0. 0. 0. 0. 0. 0. 0. 0. 0. 0. 0. 0. 0. 0. 0.]\n",
            " [0. 0. 0. 0. 0. 0. 0. 0. 0. 0. 0. 0. 0. 0. 0. 0. 0. 0. 0. 0.]\n",
            " [0. 0. 0. 0. 0. 0. 0. 0. 0. 0. 0. 0. 0. 0. 0. 0. 0. 0. 0. 0.]\n",
            " [0. 0. 0. 0. 0. 0. 0. 0. 0. 0. 0. 0. 0. 0. 0. 0. 0. 0. 0. 0.]\n",
            " [0. 0. 0. 0. 0. 0. 0. 0. 0. 0. 0. 0. 0. 0. 0. 0. 0. 0. 0. 0.]\n",
            " [0. 0. 0. 0. 0. 0. 0. 0. 0. 0. 0. 0. 0. 0. 0. 0. 0. 0. 0. 0.]\n",
            " [0. 0. 0. 0. 0. 0. 0. 0. 0. 0. 0. 0. 0. 0. 0. 0. 0. 0. 0. 0.]\n",
            " [0. 0. 0. 0. 0. 0. 0. 0. 0. 0. 0. 0. 0. 0. 0. 0. 0. 0. 0. 0.]\n",
            " [0. 0. 0. 0. 0. 0. 0. 0. 0. 0. 0. 0. 0. 0. 0. 0. 0. 0. 0. 0.]\n",
            " [0. 0. 0. 0. 0. 0. 0. 0. 0. 0. 0. 0. 0. 0. 0. 0. 0. 0. 0. 0.]\n",
            " [0. 0. 0. 0. 0. 0. 0. 0. 0. 0. 0. 0. 0. 0. 0. 0. 0. 0. 0. 0.]\n",
            " [0. 0. 0. 0. 0. 0. 0. 0. 0. 0. 0. 0. 0. 0. 0. 0. 0. 0. 0. 0.]\n",
            " [0. 0. 0. 0. 0. 0. 0. 0. 0. 0. 0. 0. 0. 0. 0. 0. 0. 0. 0. 0.]\n",
            " [0. 0. 0. 0. 0. 0. 0. 0. 0. 0. 0. 0. 0. 0. 0. 0. 0. 0. 0. 0.]]\n"
          ]
        }
      ],
      "source": [
        "np.set_printoptions(threshold=float(\"inf\"))\n",
        "z=np.zeros((20,20))\n",
        "print(z)"
      ]
    },
    {
      "cell_type": "markdown",
      "metadata": {
        "id": "llgMEsjN27Vu"
      },
      "source": [
        "#### 50. How to find the closest value (to a given scalar) in a vector? (★★☆) \n",
        "(**hint**: argmin)"
      ]
    },
    {
      "cell_type": "code",
      "execution_count": null,
      "metadata": {
        "id": "-WSB4TtK27Vv",
        "colab": {
          "base_uri": "https://localhost:8080/"
        },
        "outputId": "2bf23bcf-5dc5-4413-b239-773584e2f48c"
      },
      "outputs": [
        {
          "output_type": "stream",
          "name": "stdout",
          "text": [
            "73\n"
          ]
        }
      ],
      "source": [
        "z=np.arange(100)\n",
        "v=np.random.uniform(0,100)\n",
        "index=(np.abs(z-v)). argmin()\n",
        "print(z[index])"
      ]
    },
    {
      "cell_type": "markdown",
      "metadata": {
        "id": "omznav8U27Vv"
      },
      "source": [
        "#### 51. Create a structured array representing a position (x,y) and a color (r,g,b) (★★☆) \n",
        "(**hint**: dtype)"
      ]
    },
    {
      "cell_type": "code",
      "execution_count": null,
      "metadata": {
        "id": "CnQnYSFA27Vw",
        "colab": {
          "base_uri": "https://localhost:8080/"
        },
        "outputId": "8ca727af-7e77-4e73-f1d8-05a494fe9872"
      },
      "outputs": [
        {
          "output_type": "stream",
          "name": "stderr",
          "text": [
            "/usr/local/lib/python3.7/dist-packages/ipykernel_launcher.py:1: FutureWarning: Passing (type, 1) or '1type' as a synonym of type is deprecated; in a future version of numpy, it will be understood as (type, (1,)) / '(1,)type'.\n",
            "  \"\"\"Entry point for launching an IPython kernel.\n"
          ]
        }
      ],
      "source": [
        "z=np.zeros(10, [('position', [('x', float, 1)])])"
      ]
    },
    {
      "cell_type": "markdown",
      "metadata": {
        "id": "XGnoPESV27Vw"
      },
      "source": [
        "#### 52. Consider a random vector with shape (100,2) representing coordinates, find point by point distances (★★☆) \n",
        "(**hint**: np.atleast\\_2d, T, np.sqrt)"
      ]
    },
    {
      "cell_type": "code",
      "execution_count": null,
      "metadata": {
        "id": "99hZwn2W27Vx",
        "colab": {
          "base_uri": "https://localhost:8080/"
        },
        "outputId": "033bd01e-fcc8-4db6-876a-7ec70e6dc3bb"
      },
      "outputs": [
        {
          "output_type": "stream",
          "name": "stdout",
          "text": [
            "[[0.         0.66533176 0.85740083 0.58451791 0.11336825 0.07974558\n",
            "  0.61177071 0.34274114 0.33396335 0.81218396]\n",
            " [0.66533176 0.         0.98236804 0.24262172 0.6835119  0.67925815\n",
            "  0.59224249 0.43054501 0.92472662 0.99688284]\n",
            " [0.85740083 0.98236804 0.         0.7398271  0.74857947 0.78168625\n",
            "  0.39043463 0.6583963  0.7106131  0.0854977 ]\n",
            " [0.58451791 0.24262172 0.7398271  0.         0.56251786 0.56988067\n",
            "  0.34999618 0.26400117 0.77212404 0.756112  ]\n",
            " [0.11336825 0.6835119  0.74857947 0.56251786 0.         0.03383032\n",
            "  0.52904354 0.30184469 0.25468614 0.70089514]\n",
            " [0.07974558 0.67925815 0.78168625 0.56988067 0.03383032 0.\n",
            "  0.55469824 0.3132504  0.27342398 0.73451676]\n",
            " [0.61177071 0.59224249 0.39043463 0.34999618 0.52904354 0.55469824\n",
            "  0.         0.31381669 0.63067631 0.40769151]\n",
            " [0.34274114 0.43054501 0.6583963  0.26400117 0.30184469 0.3132504\n",
            "  0.31381669 0.         0.51028196 0.64459497]\n",
            " [0.33396335 0.92472662 0.7106131  0.77212404 0.25468614 0.27342398\n",
            "  0.63067631 0.51028196 0.         0.64101696]\n",
            " [0.81218396 0.99688284 0.0854977  0.756112   0.70089514 0.73451676\n",
            "  0.40769151 0.64459497 0.64101696 0.        ]]\n"
          ]
        }
      ],
      "source": [
        "z=np.random.random((10,2))\n",
        "x,y=np.atleast_2d(z[:,0], z[:,1])\n",
        "d=np.sqrt((x-x.T)**2 + (y-y.T)**2)\n",
        "print(d)"
      ]
    },
    {
      "cell_type": "markdown",
      "metadata": {
        "id": "Edqw-b4z27Vx"
      },
      "source": [
        "#### 53. How to convert a float (32 bits) array into an integer (32 bits) in place? \n",
        "(**hint**: astype(copy=False))"
      ]
    },
    {
      "cell_type": "code",
      "execution_count": null,
      "metadata": {
        "id": "_xzbvy0427Vy",
        "colab": {
          "base_uri": "https://localhost:8080/"
        },
        "outputId": "c4dc3d22-356d-4ada-a534-e7bd09caa229"
      },
      "outputs": [
        {
          "output_type": "stream",
          "name": "stdout",
          "text": [
            "[[15.30810642 84.72848511 64.26480103 62.75951385  3.04405761 75.00873566\n",
            "  15.84514236 52.27439117 68.2676239  15.69917488]]\n"
          ]
        }
      ],
      "source": [
        "z=(np.random.rand(10)*100).astype(np.float32)\n",
        "x=z.view(np.int32)\n",
        "y[:]=z\n",
        "print(y)"
      ]
    },
    {
      "cell_type": "markdown",
      "metadata": {
        "id": "w-UA1_YC27Vy"
      },
      "source": [
        "#### 54. How to read the following file? (★★☆) \n",
        "(**hint**: np.genfromtxt)"
      ]
    },
    {
      "cell_type": "markdown",
      "metadata": {
        "id": "W31qG9pA27Vz"
      },
      "source": [
        "```\n",
        "1, 2, 3, 4, 5\n",
        "6,  ,  , 7, 8\n",
        " ,  , 9,10,11\n",
        "```"
      ]
    },
    {
      "cell_type": "code",
      "execution_count": null,
      "metadata": {
        "id": "tEizyC9P27V0"
      },
      "outputs": [],
      "source": [
        ""
      ]
    },
    {
      "cell_type": "markdown",
      "metadata": {
        "id": "p-Iqxlcz27V0"
      },
      "source": [
        "#### 55. What is the equivalent of enumerate for numpy arrays? (★★☆) \n",
        "(**hint**: np.ndenumerate, np.ndindex)"
      ]
    },
    {
      "cell_type": "code",
      "execution_count": null,
      "metadata": {
        "id": "UkxMmN-a27V1",
        "colab": {
          "base_uri": "https://localhost:8080/"
        },
        "outputId": "224bfed8-8c33-4730-99b5-e7801d8cf5e0"
      },
      "outputs": [
        {
          "output_type": "stream",
          "name": "stdout",
          "text": [
            "(0, 0) 0\n",
            "(0, 1) 1\n",
            "(0, 2) 2\n",
            "(1, 0) 3\n",
            "(1, 1) 4\n",
            "(1, 2) 5\n",
            "(2, 0) 6\n",
            "(2, 1) 7\n",
            "(2, 2) 8\n",
            "(0, 0) 0\n",
            "(0, 1) 1\n",
            "(0, 2) 2\n",
            "(1, 0) 3\n",
            "(1, 1) 4\n",
            "(1, 2) 5\n",
            "(2, 0) 6\n",
            "(2, 1) 7\n",
            "(2, 2) 8\n"
          ]
        }
      ],
      "source": [
        "z=np.arange(9).reshape(3,3)\n",
        "for index, value in np.ndenumerate(z):\n",
        "  print(index, value)\n",
        "for index in np.ndindex(z.shape):\n",
        "  print(index, z[index])  "
      ]
    },
    {
      "cell_type": "markdown",
      "metadata": {
        "id": "sBA668Fa27V1"
      },
      "source": [
        "#### 56. Generate a generic 2D Gaussian-like array (★★☆) \n",
        "(**hint**: np.meshgrid, np.exp)"
      ]
    },
    {
      "cell_type": "code",
      "execution_count": null,
      "metadata": {
        "id": "F95oNXVt27V2"
      },
      "outputs": [],
      "source": [
        ""
      ]
    },
    {
      "cell_type": "markdown",
      "metadata": {
        "id": "hsXyQCIk27V2"
      },
      "source": [
        "#### 57. How to randomly place p elements in a 2D array? (★★☆) \n",
        "(**hint**: np.put, np.random.choice)"
      ]
    },
    {
      "cell_type": "code",
      "execution_count": null,
      "metadata": {
        "id": "3S6VW5JD27V2",
        "colab": {
          "base_uri": "https://localhost:8080/"
        },
        "outputId": "ef546b3a-148e-4b04-e763-81e2dcbae10e"
      },
      "outputs": [
        {
          "output_type": "stream",
          "name": "stdout",
          "text": [
            "[[0. 0. 0. 0. 0. 0. 0. 0. 0. 0.]\n",
            " [0. 1. 0. 0. 0. 0. 0. 0. 0. 0.]\n",
            " [0. 0. 0. 0. 0. 0. 0. 0. 0. 0.]\n",
            " [0. 0. 0. 0. 0. 0. 0. 0. 0. 0.]\n",
            " [0. 0. 0. 0. 0. 0. 0. 0. 0. 0.]\n",
            " [0. 0. 0. 0. 0. 0. 0. 0. 0. 0.]\n",
            " [0. 0. 0. 0. 0. 0. 0. 0. 0. 0.]\n",
            " [0. 0. 0. 0. 0. 0. 1. 0. 0. 0.]\n",
            " [1. 0. 0. 0. 0. 0. 0. 0. 0. 0.]\n",
            " [0. 0. 0. 0. 0. 0. 0. 0. 0. 0.]]\n"
          ]
        }
      ],
      "source": [
        "n=10\n",
        "p=3\n",
        "z=np.zeros((n,n))\n",
        "np.put(z, np.random.choice(range(n*n), p,replace=False), 1)\n",
        "print(z)"
      ]
    },
    {
      "cell_type": "markdown",
      "metadata": {
        "id": "MxAdg62G27V3"
      },
      "source": [
        "#### 58. Subtract the mean of each row of a matrix (★★☆) \n",
        "(**hint**: mean(axis=,keepdims=))"
      ]
    },
    {
      "cell_type": "code",
      "execution_count": null,
      "metadata": {
        "id": "gzPzKwKK27V3",
        "colab": {
          "base_uri": "https://localhost:8080/"
        },
        "outputId": "8a8efd6d-e372-4361-a377-b7d27dbe4d54"
      },
      "outputs": [
        {
          "output_type": "stream",
          "name": "stdout",
          "text": [
            "[[-0.26433707 -0.03568683 -0.24503509  0.08193105  0.24457274 -0.41469794\n",
            "   0.33817389  0.36076064 -0.03155704 -0.03412434]\n",
            " [-0.36270288  0.17373548  0.08513176  0.18222484 -0.43890113 -0.05476274\n",
            "   0.24399605 -0.27114887  0.20175369  0.24067381]\n",
            " [-0.25532466  0.19296516  0.23659753  0.14248484  0.16766374 -0.53799526\n",
            "   0.32121873 -0.16427799  0.38938104 -0.49271313]\n",
            " [-0.03942695 -0.11831229  0.0033804  -0.08482964  0.58921768 -0.14837798\n",
            "   0.18224387 -0.15662589 -0.34266149  0.11539229]\n",
            " [ 0.27346726 -0.19947917 -0.23025684  0.33621008  0.42254088 -0.24534867\n",
            "  -0.19952305 -0.14197476 -0.24207886  0.22644315]]\n"
          ]
        }
      ],
      "source": [
        "x=np.random.rand(5,10)\n",
        "y=x-x.mean(axis=1, keepdims=True)\n",
        "print(y)"
      ]
    },
    {
      "cell_type": "markdown",
      "metadata": {
        "id": "2_B3zZ8V27V4"
      },
      "source": [
        "#### 59. How to sort an array by the nth column? (★★☆) \n",
        "(**hint**: argsort)"
      ]
    },
    {
      "cell_type": "code",
      "execution_count": null,
      "metadata": {
        "id": "soBI_Rm927V4",
        "colab": {
          "base_uri": "https://localhost:8080/"
        },
        "outputId": "5770c3c6-65ef-420d-a8a7-ca9be3232331"
      },
      "outputs": [
        {
          "output_type": "stream",
          "name": "stdout",
          "text": [
            "[[6 2 1]\n",
            " [6 3 7]\n",
            " [6 1 9]]\n",
            "[[6 1 9]\n",
            " [6 2 1]\n",
            " [6 3 7]]\n"
          ]
        }
      ],
      "source": [
        "z=np.random.randint(0,10,(3,3))\n",
        "print(z)\n",
        "print(z[z[:,1].argsort()])"
      ]
    },
    {
      "cell_type": "markdown",
      "metadata": {
        "id": "UGMq00MO27V5"
      },
      "source": [
        "#### 60. How to tell if a given 2D array has null columns? (★★☆) \n",
        "(**hint**: any, ~)"
      ]
    },
    {
      "cell_type": "code",
      "execution_count": null,
      "metadata": {
        "id": "Q89nqd6t27V5",
        "colab": {
          "base_uri": "https://localhost:8080/"
        },
        "outputId": "2661058d-5694-4e5f-8979-5af43625df90"
      },
      "outputs": [
        {
          "output_type": "stream",
          "name": "stdout",
          "text": [
            "False\n"
          ]
        }
      ],
      "source": [
        "z=np.random.randint(0,3,(3,10))\n",
        "print((~z.any(axis=0)).any())"
      ]
    },
    {
      "cell_type": "markdown",
      "metadata": {
        "id": "bpeKCTCP27V6"
      },
      "source": [
        "#### 61. Find the nearest value from a given value in an array (★★☆) \n",
        "(**hint**: np.abs, argmin, flat)"
      ]
    },
    {
      "cell_type": "code",
      "execution_count": null,
      "metadata": {
        "id": "UYRGl6CO27V6",
        "colab": {
          "base_uri": "https://localhost:8080/"
        },
        "outputId": "c0f50abb-41f1-4bc8-fdcd-7ed2ab898d20"
      },
      "outputs": [
        {
          "output_type": "stream",
          "name": "stdout",
          "text": [
            "0.5097591433450408\n"
          ]
        }
      ],
      "source": [
        "z=np.random.uniform(0,1,10)\n",
        "x=0.5\n",
        "m=z.flat[np.abs(z-x).argmin()]\n",
        "print(m)"
      ]
    },
    {
      "cell_type": "markdown",
      "metadata": {
        "id": "Uxl8Odvg27V7"
      },
      "source": [
        "#### 62. Considering two arrays with shape (1,3) and (3,1), how to compute their sum using an iterator? (★★☆) \n",
        "(**hint**: np.nditer)"
      ]
    },
    {
      "cell_type": "code",
      "execution_count": null,
      "metadata": {
        "id": "a0BF72Bt27V8",
        "colab": {
          "base_uri": "https://localhost:8080/"
        },
        "outputId": "39182244-e269-404c-c4cd-502e9b502fb4"
      },
      "outputs": [
        {
          "output_type": "stream",
          "name": "stdout",
          "text": [
            "[[0 1 2]\n",
            " [1 2 3]\n",
            " [2 3 4]]\n"
          ]
        }
      ],
      "source": [
        "a=np.arange(3).reshape(1,3)\n",
        "b=np.arange(3).reshape(3,1)\n",
        "it=np.nditer([a,b,None])\n",
        "for x,y,z in it:z[...]=x+y\n",
        "print(it.operands[2])"
      ]
    },
    {
      "cell_type": "markdown",
      "metadata": {
        "id": "Xsl4Nb7R27V8"
      },
      "source": [
        "#### 63. Create an array class that has a name attribute (★★☆) \n",
        "(**hint**: class method)"
      ]
    },
    {
      "cell_type": "code",
      "execution_count": null,
      "metadata": {
        "id": "umMx2MYI27V9",
        "colab": {
          "base_uri": "https://localhost:8080/",
          "height": 130
        },
        "outputId": "c395dd37-6817-42c5-b2d1-84ea03cc6366"
      },
      "outputs": [
        {
          "output_type": "error",
          "ename": "SyntaxError",
          "evalue": "ignored",
          "traceback": [
            "\u001b[0;36m  File \u001b[0;32m\"<ipython-input-61-0f8137e3455a>\"\u001b[0;36m, line \u001b[0;32m2\u001b[0m\n\u001b[0;31m    def_new_(cls,array,name=\"no name\"):\u001b[0m\n\u001b[0m                                       ^\u001b[0m\n\u001b[0;31mSyntaxError\u001b[0m\u001b[0;31m:\u001b[0m invalid syntax\n"
          ]
        }
      ],
      "source": [
        "class NmaedArray(np.ndarray):\n",
        "  def_new_(cls,array,name=\"no name\"):\n",
        "    obj=np.asarray(array).view(cls)\n",
        "    obj.name=name\n",
        "    return obj\n",
        "  def_array_finalize_(self,obj):\n",
        "    if obj is None:return\n",
        "    self.info=getattr(obj,'name','no name')\n",
        " z=NamedArray(np.arange(10),'range_10')\n",
        " print(z.name)     \n"
      ]
    },
    {
      "cell_type": "markdown",
      "metadata": {
        "id": "PX3EkmJU27V9"
      },
      "source": [
        "#### 64. Consider a given vector, how to add 1 to each element indexed by a second vector (be careful with repeated indices)? (★★★) \n",
        "(**hint**: np.bincount | np.add.at)"
      ]
    },
    {
      "cell_type": "code",
      "execution_count": null,
      "metadata": {
        "id": "8ug81w_P27V-",
        "colab": {
          "base_uri": "https://localhost:8080/",
          "height": 269
        },
        "outputId": "1bf0bb89-b42f-4287-a5a6-65ec6f96837a"
      },
      "outputs": [
        {
          "output_type": "error",
          "ename": "TypeError",
          "evalue": "ignored",
          "traceback": [
            "\u001b[0;31m---------------------------------------------------------------------------\u001b[0m",
            "\u001b[0;31mTypeError\u001b[0m                                 Traceback (most recent call last)",
            "\u001b[0;32m<ipython-input-62-92483877d9a5>\u001b[0m in \u001b[0;36m<module>\u001b[0;34m()\u001b[0m\n\u001b[1;32m      1\u001b[0m \u001b[0mz\u001b[0m\u001b[0;34m=\u001b[0m\u001b[0mnp\u001b[0m\u001b[0;34m.\u001b[0m\u001b[0mones\u001b[0m\u001b[0;34m(\u001b[0m\u001b[0;36m10\u001b[0m\u001b[0;34m)\u001b[0m\u001b[0;34m\u001b[0m\u001b[0;34m\u001b[0m\u001b[0m\n\u001b[1;32m      2\u001b[0m \u001b[0mI\u001b[0m\u001b[0;34m=\u001b[0m \u001b[0mnp\u001b[0m\u001b[0;34m.\u001b[0m\u001b[0mrandom\u001b[0m\u001b[0;34m.\u001b[0m\u001b[0mrandint\u001b[0m\u001b[0;34m(\u001b[0m\u001b[0;36m0\u001b[0m\u001b[0;34m,\u001b[0m \u001b[0mlen\u001b[0m\u001b[0;34m(\u001b[0m\u001b[0mz\u001b[0m\u001b[0;34m)\u001b[0m\u001b[0;34m,\u001b[0m \u001b[0;36m20\u001b[0m\u001b[0;34m)\u001b[0m\u001b[0;34m\u001b[0m\u001b[0;34m\u001b[0m\u001b[0m\n\u001b[0;32m----> 3\u001b[0;31m \u001b[0mz\u001b[0m \u001b[0;34m+=\u001b[0m \u001b[0mnp\u001b[0m\u001b[0;34m.\u001b[0m\u001b[0mbincount\u001b[0m\u001b[0;34m(\u001b[0m\u001b[0mI\u001b[0m\u001b[0;34m,\u001b[0m \u001b[0mminlenth\u001b[0m\u001b[0;34m=\u001b[0m\u001b[0mlen\u001b[0m\u001b[0;34m(\u001b[0m\u001b[0mz\u001b[0m\u001b[0;34m)\u001b[0m\u001b[0;34m)\u001b[0m\u001b[0;34m\u001b[0m\u001b[0;34m\u001b[0m\u001b[0m\n\u001b[0m\u001b[1;32m      4\u001b[0m \u001b[0mprint\u001b[0m\u001b[0;34m(\u001b[0m\u001b[0mz\u001b[0m\u001b[0;34m)\u001b[0m\u001b[0;34m\u001b[0m\u001b[0;34m\u001b[0m\u001b[0m\n\u001b[1;32m      5\u001b[0m \u001b[0mnp\u001b[0m\u001b[0;34m.\u001b[0m\u001b[0madd\u001b[0m\u001b[0;34m.\u001b[0m\u001b[0mat\u001b[0m\u001b[0;34m(\u001b[0m\u001b[0mz\u001b[0m\u001b[0;34m,\u001b[0m \u001b[0mI\u001b[0m\u001b[0;34m,\u001b[0m \u001b[0;36m1\u001b[0m\u001b[0;34m)\u001b[0m\u001b[0;34m\u001b[0m\u001b[0;34m\u001b[0m\u001b[0m\n",
            "\u001b[0;32m<__array_function__ internals>\u001b[0m in \u001b[0;36mbincount\u001b[0;34m(*args, **kwargs)\u001b[0m\n",
            "\u001b[0;31mTypeError\u001b[0m: bincount() got an unexpected keyword argument 'minlenth'"
          ]
        }
      ],
      "source": [
        "z=np.ones(10)\n",
        "I= np.random.randint(0, len(z), 20)\n",
        "z += np.bincount(I, minlenth=len(z))\n",
        "print(z)\n",
        "np.add.at(z, I, 1)\n",
        "print(z)\n"
      ]
    },
    {
      "cell_type": "markdown",
      "metadata": {
        "id": "3Ynqj82o27V-"
      },
      "source": [
        "#### 65. How to accumulate elements of a vector (X) to an array (F) based on an index list (I)? (★★★) \n",
        "(**hint**: np.bincount)"
      ]
    },
    {
      "cell_type": "code",
      "execution_count": null,
      "metadata": {
        "id": "Zto2EfgI27V_",
        "colab": {
          "base_uri": "https://localhost:8080/"
        },
        "outputId": "5f15b975-91e1-4810-a9a5-a2d5158133a5"
      },
      "outputs": [
        {
          "output_type": "stream",
          "name": "stdout",
          "text": [
            "[0. 7. 0. 6. 5. 0. 0. 0. 0. 3.]\n"
          ]
        }
      ],
      "source": [
        "x=[1,2,3,4,5,6]\n",
        "I=[1,3,9,3,4,1]\n",
        "F=np.bincount(I,x)\n",
        "print(F)"
      ]
    },
    {
      "cell_type": "markdown",
      "metadata": {
        "id": "rtkPKSPU27V_"
      },
      "source": [
        "#### 66. Considering a (w,h,3) image of (dtype=ubyte), compute the number of unique colors (★★★) \n",
        "(**hint**: np.unique)"
      ]
    },
    {
      "cell_type": "code",
      "execution_count": null,
      "metadata": {
        "id": "_dIaxRlb27WA",
        "colab": {
          "base_uri": "https://localhost:8080/"
        },
        "outputId": "72ce8192-c9bd-4538-c7c5-e73327bd500f"
      },
      "outputs": [
        {
          "output_type": "stream",
          "name": "stdout",
          "text": [
            "64\n"
          ]
        }
      ],
      "source": [
        "w, h = 256, 256\n",
        "I = np.random.randint(0, 4, (h, w, 3)).astype(np.ubyte)\n",
        "colors = np.unique(I.reshape(-1, 3), axis=0)\n",
        "n = len(colors)\n",
        "print(n)\n"
      ]
    },
    {
      "cell_type": "markdown",
      "metadata": {
        "id": "qiyEb9rg27WA"
      },
      "source": [
        "#### 67. Considering a four dimensions array, how to get sum over the last two axis at once? (★★★) \n",
        "(**hint**: sum(axis=(-2,-1)))"
      ]
    },
    {
      "cell_type": "code",
      "execution_count": null,
      "metadata": {
        "id": "O48uELoz27WB",
        "colab": {
          "base_uri": "https://localhost:8080/"
        },
        "outputId": "7730a956-eafd-47e1-f52d-b251e4733ee6"
      },
      "outputs": [
        {
          "output_type": "stream",
          "name": "stdout",
          "text": [
            "[[64 51 57 53]\n",
            " [52 64 43 75]\n",
            " [45 65 60 40]]\n",
            "[[64 51 57 53]\n",
            " [52 64 43 75]\n",
            " [45 65 60 40]]\n"
          ]
        }
      ],
      "source": [
        "A = np.random.randint(0,10,(3,4,3,4))\n",
        "\n",
        "sum = A.sum(axis=(-2,-1))\n",
        "print(sum)\n",
        "\n",
        "sum = A.reshape(A.shape[:-2] + (-1,)).sum(axis=-1)\n",
        "print(sum)"
      ]
    },
    {
      "cell_type": "markdown",
      "metadata": {
        "id": "yRItPKea27WB"
      },
      "source": [
        "#### 68. Considering a one-dimensional vector D, how to compute means of subsets of D using a vector S of same size describing subset  indices? (★★★) \n",
        "(**hint**: np.bincount)"
      ]
    },
    {
      "cell_type": "code",
      "execution_count": null,
      "metadata": {
        "id": "GvIK8G7H27WC",
        "colab": {
          "base_uri": "https://localhost:8080/"
        },
        "outputId": "8e59f023-9980-4d1f-d192-647da650c822"
      },
      "outputs": [
        {
          "output_type": "stream",
          "name": "stdout",
          "text": [
            "[0.38046313 0.51255721 0.47626073 0.37997438 0.36767078 0.41301568\n",
            " 0.49218837 0.43522816 0.5345448  0.41626582]\n"
          ]
        }
      ],
      "source": [
        "D = np.random.uniform(0,1,100)\n",
        "S = np.random.randint(0,10,100)\n",
        "D_sums = np.bincount(S, weights=D)\n",
        "D_counts = np.bincount(S)\n",
        "D_means = D_sums / D_counts\n",
        "print(D_means)"
      ]
    },
    {
      "cell_type": "markdown",
      "metadata": {
        "id": "INtFsmNN27WC"
      },
      "source": [
        "#### 69. How to get the diagonal of a dot product? (★★★) \n",
        "(**hint**: np.diag)"
      ]
    },
    {
      "cell_type": "code",
      "execution_count": null,
      "metadata": {
        "id": "ScO21mEZ27WD",
        "colab": {
          "base_uri": "https://localhost:8080/"
        },
        "outputId": "836cc228-ff0b-461c-f638-63251a1808a1"
      },
      "outputs": [
        {
          "output_type": "execute_result",
          "data": {
            "text/plain": [
              "array([0.98687208, 1.3144043 , 1.47551631, 1.69390694, 1.66009685])"
            ]
          },
          "metadata": {},
          "execution_count": 67
        }
      ],
      "source": [
        "A = np.random.uniform(0,1,(5,5))\n",
        "B = np.random.uniform(0,1,(5,5))\n",
        "\n",
        "\n",
        "np.diag(np.dot(A, B))"
      ]
    },
    {
      "cell_type": "markdown",
      "metadata": {
        "id": "FCrHeJOE27WE"
      },
      "source": [
        "#### 70. Consider the vector \\[1, 2, 3, 4, 5\\], how to build a new vector with 3 consecutive zeros interleaved between each value? (★★★) \n",
        "(**hint**: array\\[::4\\])"
      ]
    },
    {
      "cell_type": "code",
      "execution_count": null,
      "metadata": {
        "id": "fZYrMf_527WE",
        "colab": {
          "base_uri": "https://localhost:8080/"
        },
        "outputId": "e8e09abe-6208-45f7-c867-ada28da9c479"
      },
      "outputs": [
        {
          "output_type": "stream",
          "name": "stdout",
          "text": [
            "[1. 0. 0. 0. 2. 0. 0. 0. 3. 0. 0. 0. 4. 0. 0. 0. 5.]\n"
          ]
        }
      ],
      "source": [
        "Z = np.array([1,2,3,4,5])\n",
        "nz = 3\n",
        "Z0 = np.zeros(len(Z) + (len(Z)-1)*(nz))\n",
        "Z0[::nz+1] = Z\n",
        "print(Z0)"
      ]
    },
    {
      "cell_type": "markdown",
      "metadata": {
        "id": "qcldcr6S27WF"
      },
      "source": [
        "#### 71. Consider an array of dimension (5,5,3), how to mulitply it by an array with dimensions (5,5)? (★★★) \n",
        "(**hint**: array\\[:, :, None\\])"
      ]
    },
    {
      "cell_type": "code",
      "execution_count": null,
      "metadata": {
        "collapsed": true,
        "id": "JcoLJXux27WF",
        "colab": {
          "base_uri": "https://localhost:8080/"
        },
        "outputId": "b90c2dda-aec0-4349-f499-b17d4dc275ba"
      },
      "outputs": [
        {
          "output_type": "stream",
          "name": "stdout",
          "text": [
            "[[[2. 2. 2.]\n",
            "  [2. 2. 2.]\n",
            "  [2. 2. 2.]\n",
            "  [2. 2. 2.]\n",
            "  [2. 2. 2.]]\n",
            "\n",
            " [[2. 2. 2.]\n",
            "  [2. 2. 2.]\n",
            "  [2. 2. 2.]\n",
            "  [2. 2. 2.]\n",
            "  [2. 2. 2.]]\n",
            "\n",
            " [[2. 2. 2.]\n",
            "  [2. 2. 2.]\n",
            "  [2. 2. 2.]\n",
            "  [2. 2. 2.]\n",
            "  [2. 2. 2.]]\n",
            "\n",
            " [[2. 2. 2.]\n",
            "  [2. 2. 2.]\n",
            "  [2. 2. 2.]\n",
            "  [2. 2. 2.]\n",
            "  [2. 2. 2.]]\n",
            "\n",
            " [[2. 2. 2.]\n",
            "  [2. 2. 2.]\n",
            "  [2. 2. 2.]\n",
            "  [2. 2. 2.]\n",
            "  [2. 2. 2.]]]\n"
          ]
        }
      ],
      "source": [
        "a=np.ones((5,5,3))\n",
        "b=2*np.ones((5,5))\n",
        "print(a*b[:,:,None])"
      ]
    },
    {
      "cell_type": "markdown",
      "metadata": {
        "id": "6qznj5fe27WG"
      },
      "source": [
        "#### 72. How to swap two rows of an array? (★★★) \n",
        "(**hint**: array\\[\\[\\]\\] = array\\[\\[\\]\\])"
      ]
    },
    {
      "cell_type": "code",
      "execution_count": null,
      "metadata": {
        "id": "LSq5jwu727WH",
        "colab": {
          "base_uri": "https://localhost:8080/"
        },
        "outputId": "543b156f-ada9-4982-ef48-0d91f6935611"
      },
      "outputs": [
        {
          "output_type": "stream",
          "name": "stdout",
          "text": [
            "[[ 5  6  7  8  9]\n",
            " [ 0  1  2  3  4]\n",
            " [10 11 12 13 14]\n",
            " [15 16 17 18 19]\n",
            " [20 21 22 23 24]]\n"
          ]
        }
      ],
      "source": [
        "a=np.arange(25).reshape(5,5)\n",
        "a[[0,1]]= a[[1,0]]\n",
        "print(a)"
      ]
    },
    {
      "cell_type": "markdown",
      "metadata": {
        "id": "AhPH6iYu27WH"
      },
      "source": [
        "#### 73. Consider a set of 10 triplets describing 10 triangles (with shared vertices), find the set of unique line segments composing all the  triangles (★★★) \n",
        "(**hint**: repeat, np.roll, np.sort, view, np.unique)"
      ]
    },
    {
      "cell_type": "code",
      "execution_count": null,
      "metadata": {
        "id": "Om1SpYTi27WI",
        "colab": {
          "base_uri": "https://localhost:8080/"
        },
        "outputId": "53884a31-b430-416f-c6d9-bdc782819cfc"
      },
      "outputs": [
        {
          "output_type": "stream",
          "name": "stdout",
          "text": [
            "[( 2, 28) ( 2, 45) ( 2, 52) ( 2, 70) ( 5, 86) ( 5, 98) (11, 35) (11, 55)\n",
            " (12, 21) (12, 26) (14, 49) (14, 80) (18, 62) (18, 91) (21, 26) (22, 69)\n",
            " (22, 70) (28, 70) (35, 55) (45, 52) (49, 80) (52, 75) (52, 93) (62, 91)\n",
            " (65, 85) (65, 95) (69, 70) (75, 93) (85, 95) (86, 98)]\n"
          ]
        }
      ],
      "source": [
        "faces = np.random.randint(0,100,(10,3))\n",
        "F = np.roll(faces.repeat(2,axis=1),-1,axis=1)\n",
        "F = F.reshape(len(F)*3,2)\n",
        "F = np.sort(F,axis=1)\n",
        "G = F.view( dtype=[('p0',F.dtype),('p1',F.dtype)] )\n",
        "G = np.unique(G)\n",
        "print(G)"
      ]
    },
    {
      "cell_type": "markdown",
      "metadata": {
        "id": "sHwMl6LA27WI"
      },
      "source": [
        "#### 74. Given an array C that is a bincount, how to produce an array A such that np.bincount(A) == C? (★★★) \n",
        "(**hint**: np.repeat)"
      ]
    },
    {
      "cell_type": "code",
      "execution_count": null,
      "metadata": {
        "id": "Zk7P7njU27WJ",
        "colab": {
          "base_uri": "https://localhost:8080/"
        },
        "outputId": "e24b31df-87ad-440c-94d9-b83a845f897a"
      },
      "outputs": [
        {
          "output_type": "stream",
          "name": "stdout",
          "text": [
            "[1 1 2 3 4 4 6]\n"
          ]
        }
      ],
      "source": [
        "c=np.bincount([1,1,2,3,4,4,6])\n",
        "a=np.repeat(np.arange(len(c)),c)\n",
        "print(a)"
      ]
    },
    {
      "cell_type": "markdown",
      "metadata": {
        "id": "MzPtOoGd27WJ"
      },
      "source": [
        "#### 75. How to compute averages using a sliding window over an array? (★★★) \n",
        "(**hint**: np.cumsum)"
      ]
    },
    {
      "cell_type": "code",
      "execution_count": null,
      "metadata": {
        "id": "KayvlLHp27WJ",
        "colab": {
          "base_uri": "https://localhost:8080/"
        },
        "outputId": "6961b8db-e6db-4b8f-e2bc-7ec2cdfbb9f1"
      },
      "outputs": [
        {
          "output_type": "stream",
          "name": "stdout",
          "text": [
            "[ 1.  2.  3.  4.  5.  6.  7.  8.  9. 10. 11. 12. 13. 14. 15. 16. 17. 18.]\n",
            "[ 1.  2.  3.  4.  5.  6.  7.  8.  9. 10. 11. 12. 13. 14. 15. 16. 17. 18.]\n"
          ]
        }
      ],
      "source": [
        "def moving_average(a, n=3) :\n",
        "    ret = np.cumsum(a, dtype=float)\n",
        "    ret[n:] = ret[n:] - ret[:-n]\n",
        "    return ret[n - 1:] / n\n",
        "Z = np.arange(20)\n",
        "print(moving_average(Z, n=3))\n",
        "from numpy.lib.stride_tricks import sliding_window_view\n",
        "Z = np.arange(20)\n",
        "print(sliding_window_view(Z, window_shape=3).mean(axis=-1))"
      ]
    },
    {
      "cell_type": "markdown",
      "metadata": {
        "id": "WW6x6ew_27WK"
      },
      "source": [
        "#### 76. Consider a one-dimensional array Z, build a two-dimensional array whose first row is (Z\\[0\\],Z\\[1\\],Z\\[2\\]) and each subsequent row is  shifted by 1 (last row should be (Z\\[-3\\],Z\\[-2\\],Z\\[-1\\]) (★★★) \n",
        "(**hint**: from numpy.lib import stride_tricks)"
      ]
    },
    {
      "cell_type": "code",
      "execution_count": null,
      "metadata": {
        "id": "Yh93t2Be27WK",
        "colab": {
          "base_uri": "https://localhost:8080/"
        },
        "outputId": "0b2044a7-46a0-49b1-91c2-236ba2c752be"
      },
      "outputs": [
        {
          "output_type": "stream",
          "name": "stdout",
          "text": [
            "[[0 1 2]\n",
            " [1 2 3]\n",
            " [2 3 4]\n",
            " [3 4 5]\n",
            " [4 5 6]\n",
            " [5 6 7]\n",
            " [6 7 8]\n",
            " [7 8 9]]\n",
            "[[0 1 2]\n",
            " [1 2 3]\n",
            " [2 3 4]\n",
            " [3 4 5]\n",
            " [4 5 6]\n",
            " [5 6 7]\n",
            " [6 7 8]\n",
            " [7 8 9]]\n"
          ]
        }
      ],
      "source": [
        "from numpy.lib import stride_tricks\n",
        "\n",
        "def rolling(a, window):\n",
        "    shape = (a.size - window + 1, window)\n",
        "    strides = (a.strides[0], a.strides[0])\n",
        "    return stride_tricks.as_strided(a, shape=shape, strides=strides)\n",
        "Z = rolling(np.arange(10), 3)\n",
        "print(Z)\n",
        "Z = np.arange(10)\n",
        "print(sliding_window_view(Z, window_shape=3))"
      ]
    },
    {
      "cell_type": "markdown",
      "metadata": {
        "id": "fbZJ0WHT27WL"
      },
      "source": [
        "#### 77. How to negate a boolean, or to change the sign of a float inplace? (★★★) \n",
        "(**hint**: np.logical_not, np.negative)"
      ]
    },
    {
      "cell_type": "code",
      "execution_count": null,
      "metadata": {
        "id": "dT8KNAky27WL",
        "colab": {
          "base_uri": "https://localhost:8080/"
        },
        "outputId": "5222f681-4e91-4822-e8f2-ee8179bbc475"
      },
      "outputs": [
        {
          "output_type": "execute_result",
          "data": {
            "text/plain": [
              "array([0., 0., 0., 0., 0., 0., 0., 0., 0., 0., 0., 0., 0., 0., 0., 0., 0.,\n",
              "       0., 0., 0., 0., 0., 0., 0., 0., 0., 0., 0., 0., 0., 0., 0., 0., 0.,\n",
              "       0., 0., 0., 0., 0., 0., 0., 0., 0., 0., 0., 0., 0., 0., 0., 0., 0.,\n",
              "       0., 0., 0., 0., 0., 0., 0., 0., 0., 0., 0., 0., 0., 0., 0., 0., 0.,\n",
              "       0., 0., 0., 0., 0., 0., 0., 0., 0., 0., 0., 0., 0., 0., 0., 0., 0.,\n",
              "       0., 0., 0., 0., 0., 0., 0., 0., 0., 0., 0., 0., 0., 0., 0.])"
            ]
          },
          "metadata": {},
          "execution_count": 78
        }
      ],
      "source": [
        "z=np.random.randint(0,2,100)\n",
        "np.logical_not(z, out=z)\n",
        "z=np.random.uniform(-1.0,1.0,100)\n",
        "np.logical_not(z,out=z)\n"
      ]
    },
    {
      "cell_type": "markdown",
      "metadata": {
        "id": "NIV-AO3o27WM"
      },
      "source": [
        "#### 78. Consider 2 sets of points P0,P1 describing lines (2d) and a point p, how to compute distance from p to each line i  (P0\\[i\\],P1\\[i\\])? (★★★)"
      ]
    },
    {
      "cell_type": "code",
      "execution_count": null,
      "metadata": {
        "id": "3bEDXjeg27WM",
        "colab": {
          "base_uri": "https://localhost:8080/"
        },
        "outputId": "f44fafb4-770e-41d1-b06b-b3a26c2eb945"
      },
      "outputs": [
        {
          "output_type": "stream",
          "name": "stdout",
          "text": [
            "[6.89991085 7.42946217 5.59284715 8.26241839 0.65001269 5.53741987\n",
            " 7.29164878 1.82403594 6.14239569 5.45413622]\n"
          ]
        }
      ],
      "source": [
        "def distance(P0, P1, p):\n",
        "    T = P1 - P0\n",
        "    L = (T**2).sum(axis=1)\n",
        "    U = -((P0[:,0]-p[...,0])*T[:,0] + (P0[:,1]-p[...,1])*T[:,1]) / L\n",
        "    U = U.reshape(len(U),1)\n",
        "    D = P0 + U*T - p\n",
        "    return np.sqrt((D**2).sum(axis=1))\n",
        "\n",
        "P0 = np.random.uniform(-10,10,(10,2))\n",
        "P1 = np.random.uniform(-10,10,(10,2))\n",
        "p  = np.random.uniform(-10,10,( 1,2))\n",
        "print(distance(P0, P1, p))\n"
      ]
    },
    {
      "cell_type": "markdown",
      "metadata": {
        "id": "eH80BdCL27WN"
      },
      "source": [
        "#### 79. Consider 2 sets of points P0,P1 describing lines (2d) and a set of points P, how to compute distance from each point j (P\\[j\\]) to each line i (P0\\[i\\],P1\\[i\\])? (★★★)"
      ]
    },
    {
      "cell_type": "code",
      "execution_count": null,
      "metadata": {
        "id": "YJYQM6xk27WN",
        "colab": {
          "base_uri": "https://localhost:8080/"
        },
        "outputId": "847a82c5-c386-4ecc-cde9-b6f6db0c2379"
      },
      "outputs": [
        {
          "output_type": "stream",
          "name": "stdout",
          "text": [
            "[[ 8.08454778  5.57133512  3.69911084  5.57511277  6.85789724  5.47931864\n",
            "   2.82681141  2.83880541  8.90527109  4.7934231 ]\n",
            " [ 4.18245255 14.29391397  4.46706774  6.92755313  4.64165891  8.6834286\n",
            "  10.98930182  2.78594608  7.25192215  7.09877514]\n",
            " [ 5.08252888 14.66436282  5.19955123  8.14227587  3.41764665  7.71416364\n",
            "  10.89157261  1.60765401  8.34246237  6.05412119]\n",
            " [ 7.66007638  6.80958771  2.49299587  5.90768563  6.40602802  5.79990069\n",
            "   3.93157172  2.68844118  8.8115657   4.98189683]\n",
            " [13.3786996   1.75970945  5.96889981  8.88118913  4.02154084  0.35700977\n",
            "   2.23651912  1.09834876 13.53652604  0.06147418]\n",
            " [16.55540192  0.86383931  7.70028444 10.64938602  2.56464194  2.68407521\n",
            "   5.52678682  3.29269162 16.21532278  2.90218174]\n",
            " [ 8.96795947  5.74183457  3.19221989  6.6436116   5.79718229  4.54665557\n",
            "   2.58621631  1.77881475  9.91814386  3.80967901]\n",
            " [ 1.24955922 16.26063314  4.66109875  2.28955571  8.96787916 14.12696575\n",
            "  14.72779723  7.79710415  1.92135928 12.49863178]\n",
            " [ 6.55894987  2.87058804  7.21681887  2.18790558 10.44228835  7.32246568\n",
            "   1.43935375  5.87175366  6.43982779  7.01031646]\n",
            " [ 0.35364003  8.41049464  3.63486322  1.76803878 13.73563316 13.95627783\n",
            "   8.47243519 10.73115382  0.56038653 13.22815624]]\n"
          ]
        }
      ],
      "source": [
        "P0 = np.random.uniform(-10, 10, (10,2))\n",
        "P1 = np.random.uniform(-10,10,(10,2))\n",
        "p = np.random.uniform(-10, 10, (10,2))\n",
        "print(np.array([distance(P0,P1,p_i) for p_i in p]))"
      ]
    },
    {
      "cell_type": "markdown",
      "metadata": {
        "id": "ZRLME-Ib27WO"
      },
      "source": [
        "#### 80. Consider an arbitrary array, write a function that extract a subpart with a fixed shape and centered on a given element (pad with a `fill` value when necessary) (★★★) \n",
        "(**hint**: minimum, maximum)"
      ]
    },
    {
      "cell_type": "code",
      "execution_count": null,
      "metadata": {
        "id": "wC74vB3G27WP",
        "colab": {
          "base_uri": "https://localhost:8080/"
        },
        "outputId": "5335281e-9eba-42dc-bb09-8e11bc292db9"
      },
      "outputs": [
        {
          "output_type": "stream",
          "name": "stdout",
          "text": [
            "[[2 2 5 1 5 8 7 2 0 2]\n",
            " [2 3 6 3 4 9 0 6 8 9]\n",
            " [5 5 5 2 7 1 3 4 6 1]\n",
            " [8 9 4 7 8 2 8 5 6 1]\n",
            " [8 2 2 3 4 9 0 2 3 2]\n",
            " [5 0 4 5 3 4 8 6 6 1]\n",
            " [5 7 8 4 2 5 6 3 9 1]\n",
            " [9 3 0 5 3 5 3 7 2 6]\n",
            " [9 3 0 5 5 7 8 8 2 8]\n",
            " [8 8 9 7 0 0 2 0 1 5]]\n",
            "[[0 0 0 0 0]\n",
            " [0 2 2 5 1]\n",
            " [0 2 3 6 3]\n",
            " [0 5 5 5 2]\n",
            " [0 8 9 4 7]]\n"
          ]
        },
        {
          "output_type": "stream",
          "name": "stderr",
          "text": [
            "/usr/local/lib/python3.7/dist-packages/ipykernel_launcher.py:23: FutureWarning: Using a non-tuple sequence for multidimensional indexing is deprecated; use `arr[tuple(seq)]` instead of `arr[seq]`. In the future this will be interpreted as an array index, `arr[np.array(seq)]`, which will result either in an error or a different result.\n"
          ]
        }
      ],
      "source": [
        "Z = np.random.randint(0,10,(10,10))\n",
        "shape = (5,5)\n",
        "fill  = 0\n",
        "position = (1,1)\n",
        "\n",
        "R = np.ones(shape, dtype=Z.dtype)*fill\n",
        "P  = np.array(list(position)).astype(int)\n",
        "Rs = np.array(list(R.shape)).astype(int)\n",
        "Zs = np.array(list(Z.shape)).astype(int)\n",
        "\n",
        "R_start = np.zeros((len(shape),)).astype(int)\n",
        "R_stop  = np.array(list(shape)).astype(int)\n",
        "Z_start = (P-Rs//2)\n",
        "Z_stop  = (P+Rs//2)+Rs%2\n",
        "\n",
        "R_start = (R_start - np.minimum(Z_start,0)).tolist()\n",
        "Z_start = (np.maximum(Z_start,0)).tolist()\n",
        "R_stop = np.maximum(R_start, (R_stop - np.maximum(Z_stop-Zs,0))).tolist()\n",
        "Z_stop = (np.minimum(Z_stop,Zs)).tolist()\n",
        "\n",
        "r = [slice(start,stop) for start,stop in zip(R_start,R_stop)]\n",
        "z = [slice(start,stop) for start,stop in zip(Z_start,Z_stop)]\n",
        "R[r] = Z[z]\n",
        "print(Z)\n",
        "print(R)"
      ]
    },
    {
      "cell_type": "markdown",
      "metadata": {
        "id": "I1RlL-Du27WP"
      },
      "source": [
        "#### 81. Consider an array Z = \\[1,2,3,4,5,6,7,8,9,10,11,12,13,14\\], how to generate an array R = \\[\\[1,2,3,4\\], \\[2,3,4,5\\], \\[3,4,5,6\\], ..., \\[11,12,13,14\\]\\]? (★★★) \n",
        "(**hint**: stride\\_tricks.as\\_strided)"
      ]
    },
    {
      "cell_type": "code",
      "execution_count": null,
      "metadata": {
        "id": "aeJUwS4v27WQ",
        "colab": {
          "base_uri": "https://localhost:8080/"
        },
        "outputId": "b5e00fa8-8bfe-4cb7-b9fe-30d66107a9e8"
      },
      "outputs": [
        {
          "output_type": "stream",
          "name": "stdout",
          "text": [
            "[[ 1  2  3  4]\n",
            " [ 2  3  4  5]\n",
            " [ 3  4  5  6]\n",
            " [ 4  5  6  7]\n",
            " [ 5  6  7  8]\n",
            " [ 6  7  8  9]\n",
            " [ 7  8  9 10]\n",
            " [ 8  9 10 11]\n",
            " [ 9 10 11 12]\n",
            " [10 11 12 13]\n",
            " [11 12 13 14]]\n",
            "[[ 1  2  3  4]\n",
            " [ 2  3  4  5]\n",
            " [ 3  4  5  6]\n",
            " [ 4  5  6  7]\n",
            " [ 5  6  7  8]\n",
            " [ 6  7  8  9]\n",
            " [ 7  8  9 10]\n",
            " [ 8  9 10 11]\n",
            " [ 9 10 11 12]\n",
            " [10 11 12 13]\n",
            " [11 12 13 14]]\n"
          ]
        }
      ],
      "source": [
        "Z = np.arange(1,15,dtype=np.uint32)\n",
        "R = stride_tricks.as_strided(Z,(11,4),(4,4))\n",
        "print(R)\n",
        "Z = np.arange(1, 15, dtype=np.uint32)\n",
        "print(sliding_window_view(Z, window_shape=4))"
      ]
    },
    {
      "cell_type": "markdown",
      "metadata": {
        "id": "rTcIQezr27WQ"
      },
      "source": [
        "#### 82. Compute a matrix rank (★★★) \n",
        "(**hint**: np.linalg.svd) (suggestion: np.linalg.svd)"
      ]
    },
    {
      "cell_type": "code",
      "execution_count": null,
      "metadata": {
        "id": "HUEKhS_R27WQ",
        "colab": {
          "base_uri": "https://localhost:8080/"
        },
        "outputId": "7d5fc97a-3a5c-4965-afe9-47d3196b5c0d"
      },
      "outputs": [
        {
          "output_type": "stream",
          "name": "stdout",
          "text": [
            "10\n"
          ]
        }
      ],
      "source": [
        "z=np.random.uniform(0,1,(10,10))\n",
        "rank=np.linalg.matrix_rank(z)\n",
        "print(rank)"
      ]
    },
    {
      "cell_type": "markdown",
      "metadata": {
        "id": "PrZ1q0pk27WR"
      },
      "source": [
        "#### 83. How to find the most frequent value in an array? \n",
        "(**hint**: np.bincount, argmax)"
      ]
    },
    {
      "cell_type": "code",
      "execution_count": null,
      "metadata": {
        "id": "00bdm_-227WR",
        "colab": {
          "base_uri": "https://localhost:8080/"
        },
        "outputId": "decc701e-628c-4d7c-aac6-ec499c89c5b9"
      },
      "outputs": [
        {
          "output_type": "stream",
          "name": "stdout",
          "text": [
            "0\n"
          ]
        }
      ],
      "source": [
        "z=np.random.randint(0,10,50)\n",
        "print(np.bincount(z).argmax())"
      ]
    },
    {
      "cell_type": "markdown",
      "metadata": {
        "id": "UQDhJGi_27WS"
      },
      "source": [
        "#### 84. Extract all the contiguous 3x3 blocks from a random 10x10 matrix (★★★) \n",
        "(**hint**: stride\\_tricks.as\\_strided)"
      ]
    },
    {
      "cell_type": "code",
      "execution_count": null,
      "metadata": {
        "id": "AjrfcwVD27WW",
        "colab": {
          "base_uri": "https://localhost:8080/"
        },
        "outputId": "a90cc0cd-bed6-4fe4-88ad-84a1aff371dc"
      },
      "outputs": [
        {
          "output_type": "stream",
          "name": "stdout",
          "text": [
            "[[[[1 4 3]\n",
            "   [0 2 0]\n",
            "   [0 2 1]]\n",
            "\n",
            "  [[4 3 3]\n",
            "   [2 0 0]\n",
            "   [2 1 4]]\n",
            "\n",
            "  [[3 3 3]\n",
            "   [0 0 2]\n",
            "   [1 4 1]]\n",
            "\n",
            "  [[3 3 1]\n",
            "   [0 2 3]\n",
            "   [4 1 1]]\n",
            "\n",
            "  [[3 1 2]\n",
            "   [2 3 0]\n",
            "   [1 1 2]]\n",
            "\n",
            "  [[1 2 1]\n",
            "   [3 0 4]\n",
            "   [1 2 1]]\n",
            "\n",
            "  [[2 1 4]\n",
            "   [0 4 3]\n",
            "   [2 1 2]]\n",
            "\n",
            "  [[1 4 1]\n",
            "   [4 3 0]\n",
            "   [1 2 1]]]\n",
            "\n",
            "\n",
            " [[[0 2 0]\n",
            "   [0 2 1]\n",
            "   [3 2 2]]\n",
            "\n",
            "  [[2 0 0]\n",
            "   [2 1 4]\n",
            "   [2 2 0]]\n",
            "\n",
            "  [[0 0 2]\n",
            "   [1 4 1]\n",
            "   [2 0 4]]\n",
            "\n",
            "  [[0 2 3]\n",
            "   [4 1 1]\n",
            "   [0 4 1]]\n",
            "\n",
            "  [[2 3 0]\n",
            "   [1 1 2]\n",
            "   [4 1 0]]\n",
            "\n",
            "  [[3 0 4]\n",
            "   [1 2 1]\n",
            "   [1 0 2]]\n",
            "\n",
            "  [[0 4 3]\n",
            "   [2 1 2]\n",
            "   [0 2 0]]\n",
            "\n",
            "  [[4 3 0]\n",
            "   [1 2 1]\n",
            "   [2 0 1]]]\n",
            "\n",
            "\n",
            " [[[0 2 1]\n",
            "   [3 2 2]\n",
            "   [2 2 3]]\n",
            "\n",
            "  [[2 1 4]\n",
            "   [2 2 0]\n",
            "   [2 3 4]]\n",
            "\n",
            "  [[1 4 1]\n",
            "   [2 0 4]\n",
            "   [3 4 1]]\n",
            "\n",
            "  [[4 1 1]\n",
            "   [0 4 1]\n",
            "   [4 1 2]]\n",
            "\n",
            "  [[1 1 2]\n",
            "   [4 1 0]\n",
            "   [1 2 0]]\n",
            "\n",
            "  [[1 2 1]\n",
            "   [1 0 2]\n",
            "   [2 0 2]]\n",
            "\n",
            "  [[2 1 2]\n",
            "   [0 2 0]\n",
            "   [0 2 4]]\n",
            "\n",
            "  [[1 2 1]\n",
            "   [2 0 1]\n",
            "   [2 4 0]]]\n",
            "\n",
            "\n",
            " [[[3 2 2]\n",
            "   [2 2 3]\n",
            "   [4 0 1]]\n",
            "\n",
            "  [[2 2 0]\n",
            "   [2 3 4]\n",
            "   [0 1 3]]\n",
            "\n",
            "  [[2 0 4]\n",
            "   [3 4 1]\n",
            "   [1 3 1]]\n",
            "\n",
            "  [[0 4 1]\n",
            "   [4 1 2]\n",
            "   [3 1 2]]\n",
            "\n",
            "  [[4 1 0]\n",
            "   [1 2 0]\n",
            "   [1 2 0]]\n",
            "\n",
            "  [[1 0 2]\n",
            "   [2 0 2]\n",
            "   [2 0 0]]\n",
            "\n",
            "  [[0 2 0]\n",
            "   [0 2 4]\n",
            "   [0 0 3]]\n",
            "\n",
            "  [[2 0 1]\n",
            "   [2 4 0]\n",
            "   [0 3 0]]]\n",
            "\n",
            "\n",
            " [[[2 2 3]\n",
            "   [4 0 1]\n",
            "   [2 4 1]]\n",
            "\n",
            "  [[2 3 4]\n",
            "   [0 1 3]\n",
            "   [4 1 1]]\n",
            "\n",
            "  [[3 4 1]\n",
            "   [1 3 1]\n",
            "   [1 1 2]]\n",
            "\n",
            "  [[4 1 2]\n",
            "   [3 1 2]\n",
            "   [1 2 0]]\n",
            "\n",
            "  [[1 2 0]\n",
            "   [1 2 0]\n",
            "   [2 0 0]]\n",
            "\n",
            "  [[2 0 2]\n",
            "   [2 0 0]\n",
            "   [0 0 4]]\n",
            "\n",
            "  [[0 2 4]\n",
            "   [0 0 3]\n",
            "   [0 4 4]]\n",
            "\n",
            "  [[2 4 0]\n",
            "   [0 3 0]\n",
            "   [4 4 2]]]\n",
            "\n",
            "\n",
            " [[[4 0 1]\n",
            "   [2 4 1]\n",
            "   [1 1 2]]\n",
            "\n",
            "  [[0 1 3]\n",
            "   [4 1 1]\n",
            "   [1 2 0]]\n",
            "\n",
            "  [[1 3 1]\n",
            "   [1 1 2]\n",
            "   [2 0 1]]\n",
            "\n",
            "  [[3 1 2]\n",
            "   [1 2 0]\n",
            "   [0 1 2]]\n",
            "\n",
            "  [[1 2 0]\n",
            "   [2 0 0]\n",
            "   [1 2 1]]\n",
            "\n",
            "  [[2 0 0]\n",
            "   [0 0 4]\n",
            "   [2 1 2]]\n",
            "\n",
            "  [[0 0 3]\n",
            "   [0 4 4]\n",
            "   [1 2 0]]\n",
            "\n",
            "  [[0 3 0]\n",
            "   [4 4 2]\n",
            "   [2 0 0]]]\n",
            "\n",
            "\n",
            " [[[2 4 1]\n",
            "   [1 1 2]\n",
            "   [0 3 1]]\n",
            "\n",
            "  [[4 1 1]\n",
            "   [1 2 0]\n",
            "   [3 1 3]]\n",
            "\n",
            "  [[1 1 2]\n",
            "   [2 0 1]\n",
            "   [1 3 2]]\n",
            "\n",
            "  [[1 2 0]\n",
            "   [0 1 2]\n",
            "   [3 2 4]]\n",
            "\n",
            "  [[2 0 0]\n",
            "   [1 2 1]\n",
            "   [2 4 3]]\n",
            "\n",
            "  [[0 0 4]\n",
            "   [2 1 2]\n",
            "   [4 3 0]]\n",
            "\n",
            "  [[0 4 4]\n",
            "   [1 2 0]\n",
            "   [3 0 4]]\n",
            "\n",
            "  [[4 4 2]\n",
            "   [2 0 0]\n",
            "   [0 4 4]]]\n",
            "\n",
            "\n",
            " [[[1 1 2]\n",
            "   [0 3 1]\n",
            "   [1 0 3]]\n",
            "\n",
            "  [[1 2 0]\n",
            "   [3 1 3]\n",
            "   [0 3 2]]\n",
            "\n",
            "  [[2 0 1]\n",
            "   [1 3 2]\n",
            "   [3 2 1]]\n",
            "\n",
            "  [[0 1 2]\n",
            "   [3 2 4]\n",
            "   [2 1 4]]\n",
            "\n",
            "  [[1 2 1]\n",
            "   [2 4 3]\n",
            "   [1 4 3]]\n",
            "\n",
            "  [[2 1 2]\n",
            "   [4 3 0]\n",
            "   [4 3 2]]\n",
            "\n",
            "  [[1 2 0]\n",
            "   [3 0 4]\n",
            "   [3 2 2]]\n",
            "\n",
            "  [[2 0 0]\n",
            "   [0 4 4]\n",
            "   [2 2 1]]]]\n"
          ]
        }
      ],
      "source": [
        "z=random.randint(0,5,(10,10))\n",
        "print(sliding_window_view(z,window_shape=(3,3)))"
      ]
    },
    {
      "cell_type": "markdown",
      "metadata": {
        "id": "xyUkbrCm27WW"
      },
      "source": [
        "#### 85. Create a 2D array subclass such that Z\\[i,j\\] == Z\\[j,i\\] (★★★) \n",
        "(**hint**: class method)"
      ]
    },
    {
      "cell_type": "code",
      "execution_count": null,
      "metadata": {
        "id": "slYzLton27WX",
        "colab": {
          "base_uri": "https://localhost:8080/"
        },
        "outputId": "4e012232-5092-4fec-984c-70eedcdab4bd"
      },
      "outputs": [
        {
          "output_type": "stream",
          "name": "stdout",
          "text": [
            "[[ 8  6 17 16 11]\n",
            " [ 6  8 18 13 10]\n",
            " [17 18  4 42 10]\n",
            " [16 13 42  4 11]\n",
            " [11 10 10 11  4]]\n"
          ]
        }
      ],
      "source": [
        "class Symetric(np.ndarray):\n",
        "    def __setitem__(self, index, value):\n",
        "        i,j = index\n",
        "        super(Symetric, self).__setitem__((i,j), value)\n",
        "        super(Symetric, self).__setitem__((j,i), value)\n",
        "\n",
        "def symetric(Z):\n",
        "    return np.asarray(Z + Z.T - np.diag(Z.diagonal())).view(Symetric)\n",
        "\n",
        "S = symetric(np.random.randint(0,10,(5,5)))\n",
        "S[2,3] = 42\n",
        "print(S)"
      ]
    },
    {
      "cell_type": "markdown",
      "metadata": {
        "id": "LzERu1K527WX"
      },
      "source": [
        "#### 86. Consider a set of p matrices wich shape (n,n) and a set of p vectors with shape (n,1). How to compute the sum of of the p matrix products at once? (result has shape (n,1)) (★★★) \n",
        "(**hint**: np.tensordot)"
      ]
    },
    {
      "cell_type": "code",
      "execution_count": null,
      "metadata": {
        "id": "rXOaiauY27WY",
        "colab": {
          "base_uri": "https://localhost:8080/"
        },
        "outputId": "3cf8dc29-dc58-443b-ede4-7d87706140f2"
      },
      "outputs": [
        {
          "output_type": "stream",
          "name": "stdout",
          "text": [
            "[[200.]\n",
            " [200.]\n",
            " [200.]\n",
            " [200.]\n",
            " [200.]\n",
            " [200.]\n",
            " [200.]\n",
            " [200.]\n",
            " [200.]\n",
            " [200.]\n",
            " [200.]\n",
            " [200.]\n",
            " [200.]\n",
            " [200.]\n",
            " [200.]\n",
            " [200.]\n",
            " [200.]\n",
            " [200.]\n",
            " [200.]\n",
            " [200.]]\n"
          ]
        }
      ],
      "source": [
        "p, n = 10, 20\n",
        "M = np.ones((p,n,n))\n",
        "V = np.ones((p,n,1))\n",
        "S = np.tensordot(M, V, axes=[[0, 2], [0, 1]])\n",
        "print(S)"
      ]
    },
    {
      "cell_type": "markdown",
      "metadata": {
        "id": "mLpUdPbJ27WY"
      },
      "source": [
        "#### 87. Consider a 16x16 array, how to get the block-sum (block size is 4x4)? (★★★) \n",
        "(**hint**: np.add.reduceat)"
      ]
    },
    {
      "cell_type": "code",
      "execution_count": null,
      "metadata": {
        "id": "tPq0WCj527WZ",
        "colab": {
          "base_uri": "https://localhost:8080/"
        },
        "outputId": "eb755422-a01f-4eb2-e806-1416faff91a3"
      },
      "outputs": [
        {
          "output_type": "stream",
          "name": "stdout",
          "text": [
            "[[16. 16. 16. 16.]\n",
            " [16. 16. 16. 16.]\n",
            " [16. 16. 16. 16.]\n",
            " [16. 16. 16. 16.]]\n",
            "[[16. 16. 16. 16.]\n",
            " [16. 16. 16. 16.]\n",
            " [16. 16. 16. 16.]\n",
            " [16. 16. 16. 16.]]\n"
          ]
        }
      ],
      "source": [
        "Z = np.ones((16,16))\n",
        "k = 4\n",
        "S = np.add.reduceat(np.add.reduceat(Z, np.arange(0, Z.shape[0], k), axis=0),\n",
        "                                       np.arange(0, Z.shape[1], k), axis=1)\n",
        "print(S)\n",
        "Z = np.ones((16,16))\n",
        "k = 4\n",
        "\n",
        "windows = np.lib.stride_tricks.sliding_window_view(Z, (k, k))\n",
        "S = windows[::k, ::k, ...].sum(axis=(-2, -1))\n",
        "Z = np.ones((16, 16))\n",
        "k = 4\n",
        "print(sliding_window_view(Z, window_shape=(k, k))[::k, ::k].sum(axis=(-2, -1)))"
      ]
    },
    {
      "cell_type": "markdown",
      "metadata": {
        "id": "CC9f0iif27Wa"
      },
      "source": [
        "#### 88. How to implement the Game of Life using numpy arrays? (★★★)"
      ]
    },
    {
      "cell_type": "code",
      "execution_count": null,
      "metadata": {
        "id": "08jZveAK27Wa",
        "colab": {
          "base_uri": "https://localhost:8080/"
        },
        "outputId": "12b75385-53fe-46ba-a199-fb29e07cb607"
      },
      "outputs": [
        {
          "output_type": "stream",
          "name": "stdout",
          "text": [
            "[[0 0 0 0 0 0 0 0 0 0 0 0 0 0 0 0 0 0 0 0 0 0 0 0 0 0 0 0 0 0 0 0 0 0 0 0\n",
            "  0 0 0 0 0 0 0 0 0 0 0 0 0 0]\n",
            " [0 0 0 0 0 0 0 0 0 0 1 0 0 0 0 0 0 0 1 1 0 0 0 0 0 0 0 0 0 0 0 0 0 0 0 0\n",
            "  0 0 0 0 0 0 0 0 0 0 0 0 0 0]\n",
            " [0 0 0 0 0 0 0 0 0 1 0 1 0 0 0 0 0 0 1 1 0 0 0 0 0 0 0 0 0 0 0 0 0 0 0 0\n",
            "  0 0 0 0 0 0 0 0 0 0 0 0 0 0]\n",
            " [0 0 0 0 0 0 0 0 0 1 0 1 0 0 0 0 0 0 0 0 0 0 0 0 0 0 0 0 0 0 0 0 0 0 0 0\n",
            "  0 0 0 0 0 0 0 0 0 0 0 0 0 0]\n",
            " [0 0 0 0 1 0 0 0 0 0 1 0 0 0 0 0 0 0 0 0 0 0 0 0 0 0 0 0 0 0 0 0 0 0 0 0\n",
            "  0 0 0 0 0 0 0 0 0 0 0 0 0 0]\n",
            " [0 0 0 1 0 1 0 0 0 0 0 0 0 0 0 0 0 0 0 0 0 0 0 0 0 0 0 0 0 0 0 0 0 0 0 0\n",
            "  0 0 0 0 0 0 0 0 0 0 0 0 0 0]\n",
            " [0 0 0 0 1 0 0 0 0 0 0 0 0 0 0 0 0 0 0 0 0 0 0 0 0 0 0 0 0 0 0 0 0 0 0 0\n",
            "  0 0 0 0 0 0 0 0 0 0 1 1 0 0]\n",
            " [0 0 0 0 0 0 0 0 0 0 0 0 0 0 0 0 0 0 0 0 0 0 0 0 0 0 0 0 0 0 0 0 1 0 0 0\n",
            "  0 0 0 0 0 0 0 0 0 1 0 0 1 0]\n",
            " [0 0 0 0 0 0 0 0 0 0 0 0 0 0 0 0 0 0 0 0 0 0 0 0 0 0 0 0 0 0 0 0 0 1 1 0\n",
            "  0 0 0 0 0 0 0 0 0 0 1 0 1 0]\n",
            " [0 0 0 0 0 0 0 0 0 0 0 0 0 1 1 1 0 0 0 0 0 0 0 0 0 0 0 0 0 0 1 1 0 1 1 0\n",
            "  0 0 0 0 0 0 0 0 0 0 0 1 0 0]\n",
            " [0 0 0 0 0 0 0 0 0 0 0 0 0 0 0 0 0 0 0 0 0 0 0 0 1 0 0 0 0 0 1 1 0 1 0 0\n",
            "  0 0 0 0 0 0 0 0 0 0 0 0 0 0]\n",
            " [0 0 0 0 0 0 0 0 0 0 0 1 0 0 0 0 0 1 0 0 0 0 0 1 0 0 1 0 0 0 1 0 1 0 0 0\n",
            "  0 0 0 0 0 0 0 0 0 0 0 0 0 0]\n",
            " [0 0 0 0 0 0 0 0 0 0 0 1 0 0 0 0 0 1 0 0 0 0 1 1 0 0 0 1 0 0 0 0 0 1 0 0\n",
            "  0 0 0 0 0 0 0 0 0 0 0 0 0 0]\n",
            " [0 0 0 0 0 0 0 0 0 0 0 1 0 0 0 0 0 1 0 0 0 0 0 1 0 1 0 1 0 0 0 1 1 1 0 0\n",
            "  0 0 0 0 0 0 0 0 0 0 0 0 0 0]\n",
            " [0 0 0 0 0 0 0 0 0 0 0 0 0 0 0 0 0 0 0 0 0 1 0 1 1 1 0 1 1 0 0 1 0 0 0 0\n",
            "  0 0 0 0 0 0 0 0 0 0 0 0 0 0]\n",
            " [0 0 0 0 1 0 0 0 0 0 0 0 0 1 1 1 0 0 0 0 0 0 0 1 0 0 1 0 0 0 0 0 1 1 1 0\n",
            "  0 0 0 0 0 0 0 0 0 0 0 0 0 0]\n",
            " [0 0 0 1 0 1 1 0 1 0 0 0 0 0 0 0 0 0 0 0 0 1 0 0 0 0 1 1 1 0 0 0 1 1 0 0\n",
            "  0 0 0 0 0 0 0 0 0 0 0 1 0 0]\n",
            " [0 0 0 0 0 0 0 1 0 1 0 0 0 0 0 0 0 0 0 0 0 0 0 0 0 0 0 0 0 0 0 0 0 0 0 0\n",
            "  0 0 0 0 0 0 0 0 0 0 0 1 0 0]\n",
            " [0 0 0 1 0 0 0 0 0 0 1 0 0 0 0 0 0 0 0 0 0 0 0 0 0 0 0 0 0 0 0 0 0 0 0 0\n",
            "  0 0 0 0 0 0 0 0 0 0 0 1 0 0]\n",
            " [0 0 0 0 1 1 1 0 0 1 0 0 0 0 0 0 0 0 0 0 0 0 0 0 0 1 1 0 0 0 0 0 0 0 0 0\n",
            "  0 0 0 0 0 0 0 0 0 0 0 0 0 0]\n",
            " [0 0 0 0 0 0 0 0 0 0 1 0 0 0 0 0 0 0 0 0 0 0 0 0 0 1 1 0 0 0 0 0 0 0 0 0\n",
            "  0 0 0 0 0 0 0 0 0 0 0 0 0 0]\n",
            " [0 0 0 0 0 0 0 0 0 0 1 0 1 0 0 0 0 0 0 0 0 0 0 0 0 0 0 0 0 0 0 0 0 0 0 0\n",
            "  0 0 0 0 0 0 0 0 0 0 0 0 0 0]\n",
            " [0 0 0 0 0 0 0 0 0 0 1 0 0 1 0 0 0 0 0 0 0 0 0 0 0 0 0 0 0 0 0 0 0 0 0 0\n",
            "  0 0 0 0 0 0 0 0 0 0 0 0 0 0]\n",
            " [0 0 0 0 0 0 0 0 0 0 0 0 1 1 0 0 0 0 0 0 0 0 0 0 0 0 0 0 0 0 0 0 0 0 0 0\n",
            "  0 0 0 0 0 0 0 0 0 0 0 0 0 0]\n",
            " [0 0 0 0 0 0 0 0 0 0 0 0 0 0 0 0 0 0 0 0 0 0 0 0 0 0 0 0 0 0 0 0 0 0 0 0\n",
            "  0 0 0 0 0 0 0 0 0 0 0 0 0 0]\n",
            " [0 0 0 0 0 0 0 0 0 0 0 1 0 0 0 0 0 0 0 0 0 0 0 0 0 0 0 0 0 0 0 0 0 0 0 0\n",
            "  0 0 0 0 0 0 0 0 0 0 0 0 0 0]\n",
            " [0 0 0 0 0 0 0 0 1 1 1 0 0 0 0 0 0 0 0 0 0 0 0 0 0 0 0 0 0 0 0 0 0 0 0 0\n",
            "  0 0 0 0 0 0 0 0 0 0 0 0 0 0]\n",
            " [0 0 0 0 0 0 0 0 1 1 1 0 0 0 0 0 0 0 0 0 0 0 0 0 0 0 0 0 0 0 0 0 0 0 0 0\n",
            "  0 0 0 0 0 0 0 0 0 0 0 0 0 0]\n",
            " [0 0 0 0 0 0 0 0 0 0 0 0 0 0 0 0 0 0 0 0 0 0 0 0 0 0 0 0 0 0 0 0 0 0 0 0\n",
            "  0 0 0 0 0 0 0 0 0 0 0 0 0 0]\n",
            " [0 0 0 0 0 0 0 0 0 0 0 0 0 0 0 0 0 0 0 0 0 0 0 0 0 0 0 0 0 0 0 0 0 0 0 0\n",
            "  0 0 0 0 0 0 0 0 0 0 0 0 0 0]\n",
            " [0 0 0 0 0 0 0 0 0 0 0 0 0 0 0 0 0 0 0 0 0 0 0 0 0 0 0 0 0 0 0 0 0 0 0 0\n",
            "  0 0 0 0 0 0 0 0 0 0 0 0 0 0]\n",
            " [0 0 0 0 0 0 0 0 0 0 0 0 0 0 0 0 0 0 0 0 0 0 0 0 0 0 0 0 0 0 0 0 0 0 0 0\n",
            "  0 0 0 0 0 1 1 0 0 0 0 0 0 0]\n",
            " [0 0 0 0 0 0 0 0 0 0 0 0 0 0 0 0 0 0 0 0 0 0 0 0 0 0 0 0 0 0 0 0 0 0 0 0\n",
            "  0 0 0 0 0 1 1 0 0 0 0 0 0 0]\n",
            " [0 0 0 0 0 0 0 0 0 0 0 0 0 0 0 0 0 0 0 0 0 0 0 0 0 0 0 0 0 0 0 0 0 0 0 0\n",
            "  0 0 0 0 0 0 0 0 0 0 0 0 0 0]\n",
            " [0 0 0 0 0 0 0 0 0 0 0 0 0 0 0 0 0 0 0 0 0 0 0 0 0 0 0 0 0 0 0 0 0 0 0 0\n",
            "  0 0 0 0 0 0 0 0 0 0 0 0 0 0]\n",
            " [0 0 0 0 0 0 0 0 0 0 0 0 0 0 0 0 0 0 0 0 0 0 0 0 0 0 0 0 0 0 0 0 0 0 1 1\n",
            "  0 0 0 0 0 0 0 0 0 0 0 0 0 0]\n",
            " [0 0 0 0 0 0 0 0 0 0 0 0 1 0 0 0 0 0 0 0 0 0 0 0 0 0 0 0 0 0 0 0 0 0 1 1\n",
            "  0 0 0 0 0 0 0 0 0 0 0 0 0 0]\n",
            " [0 0 0 0 0 0 0 0 0 0 0 0 1 0 0 0 0 0 0 0 0 0 0 0 0 0 0 0 0 0 0 0 0 0 0 0\n",
            "  0 0 0 0 0 0 0 0 0 0 0 0 0 0]\n",
            " [0 0 0 0 0 0 0 0 0 0 0 0 1 0 0 0 0 0 0 0 0 0 0 0 0 0 0 0 0 0 0 0 0 0 0 0\n",
            "  0 0 0 0 0 0 0 0 0 0 0 0 0 0]\n",
            " [0 0 0 0 0 0 0 0 0 0 0 0 0 0 0 0 0 0 0 0 0 0 0 0 0 0 0 0 0 0 0 0 0 0 0 0\n",
            "  0 0 0 0 0 0 0 0 0 0 0 0 0 0]\n",
            " [0 0 0 0 0 0 0 0 0 0 0 0 0 0 0 0 0 0 0 0 0 1 0 0 0 0 0 0 0 0 0 0 0 0 0 0\n",
            "  0 0 0 0 1 1 0 1 1 0 1 0 0 0]\n",
            " [0 0 0 0 0 0 0 0 0 0 0 0 0 0 0 0 0 0 0 0 1 0 1 0 0 0 0 0 0 0 0 0 0 0 0 0\n",
            "  0 1 0 0 0 1 0 1 0 0 1 1 0 0]\n",
            " [0 0 0 0 0 0 0 0 0 0 0 0 0 0 0 0 0 0 0 0 1 1 0 0 0 0 0 0 0 0 0 0 0 0 0 0\n",
            "  1 1 1 0 0 0 1 0 0 1 1 0 0 0]\n",
            " [0 0 0 0 0 0 0 0 0 0 0 0 0 0 0 0 0 0 0 0 0 0 0 0 0 0 0 0 0 0 0 0 0 0 0 0\n",
            "  1 0 1 1 0 0 0 0 0 0 0 0 0 0]\n",
            " [0 0 0 0 0 0 0 0 0 0 0 0 0 0 0 0 0 0 0 0 0 0 0 0 0 0 0 0 0 0 0 0 0 0 0 0\n",
            "  0 0 1 1 1 0 0 0 0 0 0 0 0 0]\n",
            " [0 0 0 0 0 0 0 0 0 0 0 0 0 0 0 0 0 0 0 0 0 0 0 0 0 0 0 0 0 0 0 0 0 0 0 0\n",
            "  0 0 0 0 0 0 0 0 0 0 0 0 0 0]\n",
            " [0 0 0 0 0 0 0 0 0 0 0 0 0 0 0 0 0 0 0 0 0 0 0 0 0 0 0 0 0 0 0 0 0 0 0 0\n",
            "  0 0 0 0 0 0 0 0 0 0 0 0 0 0]\n",
            " [0 0 0 0 0 0 1 1 0 0 0 0 0 0 0 0 0 0 0 0 0 0 0 0 0 0 0 0 0 0 0 0 0 0 0 0\n",
            "  0 0 0 0 0 0 0 0 0 0 0 0 0 0]\n",
            " [0 0 0 0 0 0 1 1 0 0 0 0 0 0 0 0 0 0 0 0 0 0 0 0 0 0 0 0 0 0 0 0 0 0 0 0\n",
            "  0 0 0 0 0 0 0 0 0 0 0 0 0 0]\n",
            " [0 0 0 0 0 0 0 0 0 0 0 0 0 0 0 0 0 0 0 0 0 0 0 0 0 0 0 0 0 0 0 0 0 0 0 0\n",
            "  0 0 0 0 0 0 0 0 0 0 0 0 0 0]]\n"
          ]
        }
      ],
      "source": [
        "def iterate(Z):\n",
        "    # Count neighbours\n",
        "    N = (Z[0:-2,0:-2] + Z[0:-2,1:-1] + Z[0:-2,2:] +\n",
        "         Z[1:-1,0:-2]                + Z[1:-1,2:] +\n",
        "         Z[2:  ,0:-2] + Z[2:  ,1:-1] + Z[2:  ,2:])\n",
        "\n",
        "    # Apply rules\n",
        "    birth = (N==3) & (Z[1:-1,1:-1]==0)\n",
        "    survive = ((N==2) | (N==3)) & (Z[1:-1,1:-1]==1)\n",
        "    Z[...] = 0\n",
        "    Z[1:-1,1:-1][birth | survive] = 1\n",
        "    return Z\n",
        "\n",
        "Z = np.random.randint(0,2,(50,50))\n",
        "for i in range(100): Z = iterate(Z)\n",
        "print(Z)"
      ]
    },
    {
      "cell_type": "markdown",
      "metadata": {
        "id": "Rk3D0sBo27Wb"
      },
      "source": [
        "#### 89. How to get the n largest values of an array (★★★) \n",
        "(**hint**: np.argsort | np.argpartition)"
      ]
    },
    {
      "cell_type": "code",
      "execution_count": null,
      "metadata": {
        "id": "hcR5zk-G27Wb",
        "colab": {
          "base_uri": "https://localhost:8080/"
        },
        "outputId": "314fdf11-b71a-4eb3-e27e-7f2a1d02070c"
      },
      "outputs": [
        {
          "output_type": "stream",
          "name": "stdout",
          "text": [
            "[9995 9996 9997 9998 9999]\n"
          ]
        }
      ],
      "source": [
        "Z = np.arange(10000)\n",
        "np.random.shuffle(Z)\n",
        "n = 5\n",
        "print (Z[np.argsort(Z)[-n:]])"
      ]
    },
    {
      "cell_type": "markdown",
      "metadata": {
        "id": "F570yQG927Wc"
      },
      "source": [
        "#### 90. Given an arbitrary number of vectors, build the cartesian product (every combinations of every item) (★★★) \n",
        "(**hint**: np.indices)"
      ]
    },
    {
      "cell_type": "code",
      "execution_count": null,
      "metadata": {
        "scrolled": true,
        "id": "RnP_cHf427Wd",
        "colab": {
          "base_uri": "https://localhost:8080/"
        },
        "outputId": "b2ab6a05-45aa-4053-cf7f-76bdb818eb8c"
      },
      "outputs": [
        {
          "output_type": "stream",
          "name": "stdout",
          "text": [
            "[[1 4 6]\n",
            " [1 4 7]\n",
            " [1 5 6]\n",
            " [1 5 7]\n",
            " [2 4 6]\n",
            " [2 4 7]\n",
            " [2 5 6]\n",
            " [2 5 7]\n",
            " [3 4 6]\n",
            " [3 4 7]\n",
            " [3 5 6]\n",
            " [3 5 7]]\n"
          ]
        }
      ],
      "source": [
        "def cartesian(arrays):\n",
        "    arrays = [np.asarray(a) for a in arrays]\n",
        "    shape = (len(x) for x in arrays)\n",
        "\n",
        "    ix = np.indices(shape, dtype=int)\n",
        "    ix = ix.reshape(len(arrays), -1).T\n",
        "\n",
        "    for n, arr in enumerate(arrays):\n",
        "        ix[:, n] = arrays[n][ix[:, n]]\n",
        "\n",
        "    return ix\n",
        "\n",
        "print (cartesian(([1, 2, 3], [4, 5], [6, 7])))"
      ]
    },
    {
      "cell_type": "markdown",
      "metadata": {
        "id": "PaKhKwpQ27We"
      },
      "source": [
        "#### 91. How to create a record array from a regular array? (★★★) \n",
        "(**hint**: np.core.records.fromarrays)"
      ]
    },
    {
      "cell_type": "code",
      "execution_count": null,
      "metadata": {
        "id": "iW8AIVmk27We",
        "colab": {
          "base_uri": "https://localhost:8080/"
        },
        "outputId": "d0fdb201-903f-409c-efb2-58d776111b62"
      },
      "outputs": [
        {
          "output_type": "stream",
          "name": "stdout",
          "text": [
            "[(b'Hello', 2.5, 3) (b'World', 3.6, 2)]\n"
          ]
        }
      ],
      "source": [
        "Z = np.array([(\"Hello\", 2.5, 3),\n",
        "              (\"World\", 3.6, 2)])\n",
        "R = np.core.records.fromarrays(Z.T,\n",
        "                               names='col1, col2, col3',\n",
        "                               formats = 'S8, f8, i8')\n",
        "print(R)"
      ]
    },
    {
      "cell_type": "markdown",
      "metadata": {
        "id": "Kry-2E6r27Wf"
      },
      "source": [
        "#### 92. Consider a large vector Z, compute Z to the power of 3 using 3 different methods (★★★) \n",
        "(**hint**: np.power, \\*, np.einsum)"
      ]
    },
    {
      "cell_type": "code",
      "execution_count": null,
      "metadata": {
        "id": "SFs68rwn27Wf",
        "colab": {
          "base_uri": "https://localhost:8080/"
        },
        "outputId": "9a2f0ea0-9c1c-462b-f18b-b64ed89ed3c3"
      },
      "outputs": [
        {
          "output_type": "stream",
          "name": "stdout",
          "text": [
            "1 loop, best of 5: 3.74 s per loop\n",
            "10 loops, best of 5: 137 ms per loop\n",
            "10 loops, best of 5: 121 ms per loop\n"
          ]
        }
      ],
      "source": [
        "x = np.random.rand(int(5e7))\n",
        "\n",
        "%timeit np.power(x,3)\n",
        "%timeit x*x*x\n",
        "%timeit np.einsum('i,i,i->i',x,x,x)"
      ]
    },
    {
      "cell_type": "markdown",
      "metadata": {
        "id": "nTAuzVaR27Wf"
      },
      "source": [
        "#### 93. Consider two arrays A and B of shape (8,3) and (2,2). How to find rows of A that contain elements of each row of B regardless of the order of the elements in B? (★★★) \n",
        "(**hint**: np.where)"
      ]
    },
    {
      "cell_type": "code",
      "execution_count": null,
      "metadata": {
        "id": "QuUw08qK27Wg",
        "colab": {
          "base_uri": "https://localhost:8080/"
        },
        "outputId": "6d84af32-afb7-4e1e-df01-bae25adecead"
      },
      "outputs": [
        {
          "output_type": "stream",
          "name": "stdout",
          "text": [
            "[3]\n"
          ]
        }
      ],
      "source": [
        "a=np.random.randint(0,5,(8,3))\n",
        "b=np.random.randint(0,5,(2,2))\n",
        "c=(a[..., np.newaxis, np.newaxis]==b)\n",
        "rows= np.where(c.any((3,1)).all(1))[0]\n",
        "print(rows)"
      ]
    },
    {
      "cell_type": "markdown",
      "metadata": {
        "id": "Ub5gsIMv27Wg"
      },
      "source": [
        "#### 94. Considering a 10x3 matrix, extract rows with unequal values (e.g. \\[2,2,3\\]) (★★★)"
      ]
    },
    {
      "cell_type": "code",
      "execution_count": null,
      "metadata": {
        "id": "BD0Il29Z27Wg",
        "colab": {
          "base_uri": "https://localhost:8080/"
        },
        "outputId": "4c791ac5-31f3-42da-a83c-7f77208c41ce"
      },
      "outputs": [
        {
          "output_type": "stream",
          "name": "stdout",
          "text": [
            "[[1 4 0]\n",
            " [4 1 0]\n",
            " [1 0 1]\n",
            " [0 1 4]\n",
            " [4 4 4]\n",
            " [2 3 0]\n",
            " [4 4 4]\n",
            " [0 1 3]\n",
            " [1 4 1]\n",
            " [2 0 1]]\n",
            "[[1 4 0]\n",
            " [4 1 0]\n",
            " [1 0 1]\n",
            " [0 1 4]\n",
            " [2 3 0]\n",
            " [0 1 3]\n",
            " [1 4 1]\n",
            " [2 0 1]]\n",
            "[[1 4 0]\n",
            " [4 1 0]\n",
            " [1 0 1]\n",
            " [0 1 4]\n",
            " [2 3 0]\n",
            " [0 1 3]\n",
            " [1 4 1]\n",
            " [2 0 1]]\n"
          ]
        }
      ],
      "source": [
        "Z = np.random.randint(0,5,(10,3))\n",
        "print(Z)\n",
        "# solution for arrays of all dtypes (including string arrays and record arrays)\n",
        "E = np.all(Z[:,1:] == Z[:,:-1], axis=1)\n",
        "U = Z[~E]\n",
        "print(U)\n",
        "# soluiton for numerical arrays only, will work for any number of columns in Z\n",
        "U = Z[Z.max(axis=1) != Z.min(axis=1),:]\n",
        "print(U)"
      ]
    },
    {
      "cell_type": "markdown",
      "metadata": {
        "id": "w246e1-t27Wg"
      },
      "source": [
        "#### 95. Convert a vector of ints into a matrix binary representation (★★★) \n",
        "(**hint**: np.unpackbits)"
      ]
    },
    {
      "cell_type": "code",
      "execution_count": null,
      "metadata": {
        "id": "cap21j8n27Wh",
        "colab": {
          "base_uri": "https://localhost:8080/"
        },
        "outputId": "3e1c5e63-7979-43fb-f4ba-fedb96cbaf06"
      },
      "outputs": [
        {
          "output_type": "stream",
          "name": "stdout",
          "text": [
            "[[0 0 0 0 0 0 0 0]\n",
            " [0 0 0 0 0 0 0 1]\n",
            " [0 0 0 0 0 0 1 0]\n",
            " [0 0 0 0 0 0 1 1]\n",
            " [0 0 0 0 1 1 1 1]\n",
            " [0 0 0 1 0 0 0 0]\n",
            " [0 0 1 0 0 0 0 0]\n",
            " [0 1 0 0 0 0 0 0]\n",
            " [1 0 0 0 0 0 0 0]]\n"
          ]
        }
      ],
      "source": [
        "I=np.array([0,1,2,3,15,16,32,64,128])\n",
        "B=((I.reshape(-1,1)&(2**np.arange(8))) !=0). astype(int)\n",
        "print(B[:,::-1])"
      ]
    },
    {
      "cell_type": "markdown",
      "metadata": {
        "id": "yj04VbRL27Wh"
      },
      "source": [
        "#### 96. Given a two dimensional array, how to extract unique rows? (★★★) \n",
        "(**hint**: np.ascontiguousarray)"
      ]
    },
    {
      "cell_type": "code",
      "execution_count": null,
      "metadata": {
        "id": "WHWgiKhF27Wh",
        "colab": {
          "base_uri": "https://localhost:8080/"
        },
        "outputId": "375fcb02-0ee7-4171-a70a-92591c1bc2cc"
      },
      "outputs": [
        {
          "output_type": "stream",
          "name": "stdout",
          "text": [
            "[[0 1 0]\n",
            " [0 1 1]\n",
            " [1 0 0]\n",
            " [1 1 0]]\n",
            "[[0 1 0]\n",
            " [0 1 1]\n",
            " [1 0 0]\n",
            " [1 1 0]]\n"
          ]
        }
      ],
      "source": [
        "z=np.random.randint(0,2,(6,3))\n",
        "T=np.ascontiguousarray(z).view(np.dtype((np.void,z.dtype.itemsize*z.shape[1])))\n",
        "_,idx=np.unique(T,return_index=True)\n",
        "uz=z[idx]\n",
        "print(uz)\n",
        "uz=np.unique(z,axis=0)\n",
        "print(uz)"
      ]
    },
    {
      "cell_type": "markdown",
      "metadata": {
        "id": "5RxpoCNT27Wh"
      },
      "source": [
        "#### 97. Considering 2 vectors A & B, write the einsum equivalent of inner, outer, sum, and mul function (★★★) \n",
        "(**hint**: np.einsum)"
      ]
    },
    {
      "cell_type": "code",
      "execution_count": null,
      "metadata": {
        "id": "5DwS_ztJ27Wi",
        "colab": {
          "base_uri": "https://localhost:8080/"
        },
        "outputId": "5bd4925e-d2c9-44f5-aca6-016200b72a17"
      },
      "outputs": [
        {
          "output_type": "execute_result",
          "data": {
            "text/plain": [
              "array([[0.02533206, 0.10659483, 0.06458409, 0.01889996, 0.0956703 ,\n",
              "        0.02721401, 0.0528536 , 0.22477353, 0.21403443, 0.0865406 ],\n",
              "       [0.01277153, 0.05374132, 0.032561  , 0.00952869, 0.04823356,\n",
              "        0.01372033, 0.02664691, 0.11332282, 0.10790855, 0.04363069],\n",
              "       [0.0721282 , 0.30350836, 0.18389082, 0.05381402, 0.27240285,\n",
              "        0.07748667, 0.15049051, 0.63999955, 0.60942202, 0.24640777],\n",
              "       [0.01575428, 0.06629248, 0.04016555, 0.01175409, 0.0594984 ,\n",
              "        0.01692469, 0.03287023, 0.13978909, 0.13311033, 0.05382054],\n",
              "       [0.00125145, 0.00526597, 0.00319057, 0.00093369, 0.00472628,\n",
              "        0.00134442, 0.00261106, 0.01110421, 0.01057368, 0.00427526],\n",
              "       [0.01989153, 0.08370159, 0.05071344, 0.01484084, 0.07512331,\n",
              "        0.02136929, 0.0415023 , 0.17649919, 0.16806651, 0.06795438],\n",
              "       [0.08300831, 0.34929081, 0.21162967, 0.06193154, 0.31349321,\n",
              "        0.08917508, 0.17319112, 0.73653972, 0.70134975, 0.28357693],\n",
              "       [0.08153973, 0.34311117, 0.20788553, 0.06083586, 0.30794691,\n",
              "        0.0875974 , 0.17012703, 0.7235089 , 0.68894151, 0.27855991],\n",
              "       [0.05487768, 0.23091989, 0.13991064, 0.04094361, 0.20725372,\n",
              "        0.0589546 , 0.1144985 , 0.48693429, 0.46366983, 0.18747575],\n",
              "       [0.02760891, 0.1161756 , 0.07038892, 0.02059869, 0.10426917,\n",
              "        0.02966001, 0.0576041 , 0.24497622, 0.23327189, 0.09431888]])"
            ]
          },
          "metadata": {},
          "execution_count": 106
        }
      ],
      "source": [
        "a=np.random.uniform(0,1,10)\n",
        "b=np.random.uniform(0,1,10)\n",
        "np.einsum('i->',a)\n",
        "np.einsum('i,i->i',a,b)\n",
        "np.einsum('i,i',a,b)\n",
        "np.einsum('i,j->ij',a,b)"
      ]
    },
    {
      "cell_type": "markdown",
      "metadata": {
        "id": "D6KU_wYu27Wi"
      },
      "source": [
        "#### 98. Considering a path described by two vectors (X,Y), how to sample it using equidistant samples (★★★)? \n",
        "(**hint**: np.cumsum, np.interp)"
      ]
    },
    {
      "cell_type": "code",
      "execution_count": null,
      "metadata": {
        "collapsed": true,
        "id": "17XBxZQ227Wi"
      },
      "outputs": [],
      "source": [
        "phi = np.arange(0, 10*np.pi, 0.1)\n",
        "a = 1\n",
        "x = a*phi*np.cos(phi)\n",
        "y = a*phi*np.sin(phi)\n",
        "\n",
        "dr = (np.diff(x)**2 + np.diff(y)**2)**.5 # segment lengths\n",
        "r = np.zeros_like(x)\n",
        "r[1:] = np.cumsum(dr)                # integrate path\n",
        "r_int = np.linspace(0, r.max(), 200) # regular spaced path\n",
        "x_int = np.interp(r_int, r, x)       # integrate path\n",
        "y_int = np.interp(r_int, r, y)"
      ]
    },
    {
      "cell_type": "markdown",
      "metadata": {
        "id": "NNjiQWup27Wi"
      },
      "source": [
        "#### 99. Given an integer n and a 2D array X, select from X the rows which can be interpreted as draws from a multinomial distribution with n degrees, i.e., the rows which only contain integers and which sum to n. (★★★) \n",
        "(**hint**: np.logical\\_and.reduce, np.mod)"
      ]
    },
    {
      "cell_type": "code",
      "execution_count": null,
      "metadata": {
        "id": "7F0e8Hp827Wj",
        "colab": {
          "base_uri": "https://localhost:8080/"
        },
        "outputId": "34192a14-cefc-489d-e4c0-cb8f465099f3"
      },
      "outputs": [
        {
          "output_type": "stream",
          "name": "stdout",
          "text": [
            "[[2. 0. 1. 1.]]\n"
          ]
        }
      ],
      "source": [
        "X = np.asarray([[1.0, 0.0, 3.0, 8.0],\n",
        "                [2.0, 0.0, 1.0, 1.0],\n",
        "                [1.5, 2.5, 1.0, 0.0]])\n",
        "n = 4\n",
        "M = np.logical_and.reduce(np.mod(X, 1) == 0, axis=-1)\n",
        "M &= (X.sum(axis=-1) == n)\n",
        "print(X[M])"
      ]
    },
    {
      "cell_type": "markdown",
      "metadata": {
        "id": "fgGhQVLd27Wj"
      },
      "source": [
        "#### 100. Compute bootstrapped 95% confidence intervals for the mean of a 1D array X (i.e., resample the elements of an array with replacement N times, compute the mean of each sample, and then compute percentiles over the means). (★★★) \n",
        "(**hint**: np.percentile)"
      ]
    },
    {
      "cell_type": "code",
      "execution_count": null,
      "metadata": {
        "id": "-Q_sEtGi27Wj",
        "outputId": "499ef095-fa76-4ee5-a9a3-580988ffb3b8",
        "colab": {
          "base_uri": "https://localhost:8080/"
        }
      },
      "outputs": [
        {
          "output_type": "stream",
          "name": "stdout",
          "text": [
            "[-0.10126985  0.28024301]\n"
          ]
        }
      ],
      "source": [
        "X=np.random.randn(100)\n",
        "N=1000\n",
        "idx=np.random.randint(0, X.size, (N,X.size))\n",
        "means=X[idx].mean(axis=1)\n",
        "confint=np.percentile(means,[2.5,97.5])\n",
        "print(confint)"
      ]
    }
  ],
  "metadata": {
    "kernelspec": {
      "display_name": "Python 3",
      "language": "python",
      "name": "python3"
    },
    "language_info": {
      "codemirror_mode": {
        "name": "ipython",
        "version": 3
      },
      "file_extension": ".py",
      "mimetype": "text/x-python",
      "name": "python",
      "nbconvert_exporter": "python",
      "pygments_lexer": "ipython3",
      "version": "3.8.3"
    },
    "colab": {
      "name": "Copy of Numpy_tasks1.ipynb",
      "provenance": [],
      "collapsed_sections": [
        "uwOPkWPA27VF",
        "pWX6gIvS27VI",
        "-kEww8-N27VJ",
        "oLHvBijH27VJ",
        "CuMbYohq27VK",
        "Vfro6A6-27VL",
        "d33hkZ8327VM",
        "1m7yaVG427VN",
        "9Opl7cl-27VO",
        "nKWMQYTJ27VP",
        "GgwuOS5O27VP",
        "gAHLk7-c27VQ",
        "Hzc71JBx27VS",
        "3_NdTyKt27VT",
        "xmaMZgAj27VU",
        "yzFMd3HV27VV",
        "HDz3n0uv27VW",
        "feFbgOul27VX",
        "D5RiSo3a27Vb",
        "Cp21nrDO27Vb",
        "Zj1w5yVf27Vc",
        "nQhvdWSj27Ve",
        "TrvWRgV127Vf",
        "qiyEb9rg27WA",
        "yRItPKea27WB",
        "INtFsmNN27WC",
        "FCrHeJOE27WE",
        "AhPH6iYu27WH",
        "MzPtOoGd27WJ",
        "WW6x6ew_27WK",
        "NIV-AO3o27WM",
        "eH80BdCL27WN",
        "ZRLME-Ib27WO",
        "I1RlL-Du27WP",
        "xyUkbrCm27WW",
        "LzERu1K527WX",
        "mLpUdPbJ27WY",
        "CC9f0iif27Wa",
        "Rk3D0sBo27Wb"
      ]
    }
  },
  "nbformat": 4,
  "nbformat_minor": 0
}